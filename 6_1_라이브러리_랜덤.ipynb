{
  "nbformat": 4,
  "nbformat_minor": 0,
  "metadata": {
    "colab": {
      "name": "6-1.라이브러리_랜덤.ipynb",
      "provenance": [],
      "collapsed_sections": [
        "CbpP-qatLAmI",
        "A17ZgbqfK3lr"
      ],
      "include_colab_link": true
    },
    "kernelspec": {
      "name": "python3",
      "display_name": "Python 3"
    },
    "language_info": {
      "name": "python"
    }
  },
  "cells": [
    {
      "cell_type": "markdown",
      "metadata": {
        "id": "view-in-github",
        "colab_type": "text"
      },
      "source": [
        "<a href=\"https://colab.research.google.com/github/TAEWOOYOON/SkillTreePython/blob/main/6_1_%EB%9D%BC%EC%9D%B4%EB%B8%8C%EB%9F%AC%EB%A6%AC_%EB%9E%9C%EB%8D%A4.ipynb\" target=\"_parent\"><img src=\"https://colab.research.google.com/assets/colab-badge.svg\" alt=\"Open In Colab\"/></a>"
      ]
    },
    {
      "cell_type": "markdown",
      "metadata": {
        "id": "jgFAOz-Tw1VI"
      },
      "source": [
        "# 6-1.라이브러리: 랜덤\n",
        "---\n",
        "* 날짜: 2022.04.04\n",
        "* 이름: 윤태우\n",
        "\n"
      ]
    },
    {
      "cell_type": "markdown",
      "metadata": {
        "id": "roC8A6Ro6THT"
      },
      "source": [
        "## 개념정리\n",
        "---\n",
        "\n",
        "전세계의 파이썬 사용자들이 유용한 라이브러리를 만들어 놓았습니다. 수많은 파이썬 라이브러리가 있지만 그중에서도 유용하고 기본적인 라이브러리를 알아보도록 하겠습니다. \n",
        "\n",
        "주사위를 던지거나 복권추첨 등 난수를 이용해서 코드를 짜야할 때가 종종 있습니다. 파이썬에서 난수를 만드는 방법을 알아보도록 하겠습니다. 난수를 만드는 모듈은 **random** 을 이용합니다. "
      ]
    },
    {
      "cell_type": "markdown",
      "metadata": {
        "id": "HjPXsM8C5ULZ"
      },
      "source": [
        "### **(1) 라이브러리 임포트(import)**\n",
        "\n",
        "아래와 같이 `random` 모듈을 `import` 해줍니다.\n",
        "\n",
        "```\n",
        "import random\n",
        "```\n"
      ]
    },
    {
      "cell_type": "code",
      "metadata": {
        "id": "9pxx7Zy53xFz"
      },
      "source": [
        "import random"
      ],
      "execution_count": null,
      "outputs": []
    },
    {
      "cell_type": "markdown",
      "source": [
        "### **(2) 기본 사용 : `time`**"
      ],
      "metadata": {
        "id": "4hBv297VxWGr"
      }
    },
    {
      "cell_type": "markdown",
      "metadata": {
        "id": "o4Y67BgLKmxO"
      },
      "source": [
        "#### **랜덤값 생성**\n",
        "\n"
      ]
    },
    {
      "cell_type": "markdown",
      "metadata": {
        "id": "zD6gfuVD3xwx"
      },
      "source": [
        "* `random.random` : 0과 1사이의 난수를 무작위로 생성합니다.\n",
        "\n",
        "```\n",
        "random.random()\n",
        "```\n",
        "\n"
      ]
    },
    {
      "cell_type": "code",
      "metadata": {
        "id": "OaowHk_83leh",
        "colab": {
          "base_uri": "https://localhost:8080/"
        },
        "outputId": "a4d1852f-0552-402c-c627-12e6b6f27a06"
      },
      "source": [
        "ran_float = random.random()\n",
        "ran_float"
      ],
      "execution_count": null,
      "outputs": [
        {
          "output_type": "execute_result",
          "data": {
            "text/plain": [
              "0.9726572491277726"
            ]
          },
          "metadata": {},
          "execution_count": 4
        }
      ]
    },
    {
      "cell_type": "markdown",
      "metadata": {
        "id": "BOwMgkiC4RqB"
      },
      "source": [
        "* `random.randint`: 특정 범위 랜덤한 정수를 무작위로 생성합니다. (a이상 b 이하)\n",
        "\n",
        "```\n",
        "random.randint(a, b)\n",
        "```\n",
        "\n"
      ]
    },
    {
      "cell_type": "code",
      "metadata": {
        "id": "_zG33m-S4RqI",
        "colab": {
          "base_uri": "https://localhost:8080/"
        },
        "outputId": "38d6ca5e-6105-4481-c87f-5f7d4e5e1dd4"
      },
      "source": [
        "random.randint(1, 2)"
      ],
      "execution_count": null,
      "outputs": [
        {
          "output_type": "execute_result",
          "data": {
            "text/plain": [
              "2"
            ]
          },
          "metadata": {},
          "execution_count": 100
        }
      ]
    },
    {
      "cell_type": "markdown",
      "metadata": {
        "id": "CbpP-qatLAmI"
      },
      "source": [
        "#### **랜덤값 추출**"
      ]
    },
    {
      "cell_type": "markdown",
      "metadata": {
        "id": "uETLiTpC5OQd"
      },
      "source": [
        "* `random.choice`: 주어진 sequence 에서 랜덤으로 한개의 요소를 뽑습니다.\n",
        "\n",
        "```\n",
        "a = [1,2,3] # 리스트 a가 주어졌을 때 \n",
        "b = random.choice(a) # a의 요소 중 한개를 뽑아 b로 바인딩\n",
        "print(b)\n",
        "```\n",
        "\n"
      ]
    },
    {
      "cell_type": "code",
      "metadata": {
        "id": "MKMHr7p651mJ",
        "colab": {
          "base_uri": "https://localhost:8080/",
          "height": 35
        },
        "outputId": "fb0c0064-1e5d-4a78-d1b4-32d9bcf73a86"
      },
      "source": [
        "a = ['a', 'b', 'c',1, 6, 1]\n",
        "random.choice(a)"
      ],
      "execution_count": null,
      "outputs": [
        {
          "output_type": "execute_result",
          "data": {
            "text/plain": [
              "'b'"
            ],
            "application/vnd.google.colaboratory.intrinsic+json": {
              "type": "string"
            }
          },
          "metadata": {},
          "execution_count": 15
        }
      ]
    },
    {
      "cell_type": "markdown",
      "metadata": {
        "id": "PbidqOm3z7sn"
      },
      "source": [
        "* `random.choices` : 주어진 sequence 에서 랜덤으로 k개의 요소를 뽑습니다. 중복이 가능합니다.\n",
        "\n",
        "```\n",
        "a = [1,2,3] # 리스트 a가 주어졌을 때 \n",
        "b = random.choices(a, k=2) # a의 요소 중 k개를 뽑아 b로 바인딩\n",
        "print(b)\n",
        "```\n",
        "\n"
      ]
    },
    {
      "cell_type": "code",
      "metadata": {
        "id": "sgyxjWvLz7sv",
        "colab": {
          "base_uri": "https://localhost:8080/"
        },
        "outputId": "7b0b2409-25cd-4997-f15d-9fbb3b69c8f1"
      },
      "source": [
        "random.choices(a, k = 3)"
      ],
      "execution_count": null,
      "outputs": [
        {
          "output_type": "execute_result",
          "data": {
            "text/plain": [
              "[6, 'b', 'c']"
            ]
          },
          "metadata": {},
          "execution_count": 13
        }
      ]
    },
    {
      "cell_type": "markdown",
      "metadata": {
        "id": "A17ZgbqfK3lr"
      },
      "source": [
        "#### **기타**"
      ]
    },
    {
      "cell_type": "markdown",
      "metadata": {
        "id": "9od_vtK84u_4"
      },
      "source": [
        "* `random.shuffle` : 특정 시퀀스를 랜덤하게 섞는 함수입니다.\n",
        "\n",
        "```\n",
        "a = [1,2,3]\n",
        "random.shuffle(a)\n",
        "print(a)\n",
        "```\n",
        "\n"
      ]
    },
    {
      "cell_type": "code",
      "metadata": {
        "id": "_srXvBaG4Xmi",
        "colab": {
          "base_uri": "https://localhost:8080/"
        },
        "outputId": "62bdb603-6837-45a7-a585-8f2a9d5408a8"
      },
      "source": [
        "random.shuffle(a)\n",
        "print(a)"
      ],
      "execution_count": null,
      "outputs": [
        {
          "output_type": "stream",
          "name": "stdout",
          "text": [
            "[1, 6, 'c', 'b', 'a', 1]\n"
          ]
        }
      ]
    },
    {
      "cell_type": "markdown",
      "metadata": {
        "id": "qgwblcg16Qb7"
      },
      "source": [
        "# 예제\n",
        "---"
      ]
    },
    {
      "cell_type": "markdown",
      "metadata": {
        "id": "wEh21CAlIF5M"
      },
      "source": [
        "####**예제 01 여러번의 주사위**\n",
        "\n",
        "\n",
        "    - 주사위를 던지면 1에서 6까지 숫자가 랜덤으로 나옵니다.\n",
        "    - 주사위를 사용하가 입력한 만큼 돌리고 각숫자가 몇번씩 나왔는지 알려주는 함수를 작성하세요\n"
      ]
    },
    {
      "cell_type": "code",
      "source": [
        "a = [1,2,3]\n",
        "b = [4,5]\n",
        "a+b"
      ],
      "metadata": {
        "colab": {
          "base_uri": "https://localhost:8080/"
        },
        "id": "pM_OVXSNEZVf",
        "outputId": "33f08565-2ab3-4a77-f475-4b6fe8f62345"
      },
      "execution_count": null,
      "outputs": [
        {
          "output_type": "execute_result",
          "data": {
            "text/plain": [
              "[1, 2, 3, 4, 5]"
            ]
          },
          "metadata": {},
          "execution_count": 17
        }
      ]
    },
    {
      "cell_type": "code",
      "source": [
        "import random"
      ],
      "metadata": {
        "id": "jr6Uhj1iDxqv"
      },
      "execution_count": null,
      "outputs": []
    },
    {
      "cell_type": "code",
      "metadata": {
        "id": "kv4kbTMuAoLN",
        "colab": {
          "base_uri": "https://localhost:8080/"
        },
        "outputId": "5424ca1a-6aa9-463e-b93c-cc251069cc46"
      },
      "source": [
        "d = [1,2,3,4,5,6]\n",
        "def D(x) :\n",
        "  a = random.choices(d, k=x)\n",
        "  print(f'1은 {a.count(1)}번, 2는 {a.count(2)}번, 3은 {a.count(3)}번, 4는 {a.count(4)}번, 5는 {a.count(5)}번, 6은 {a.count(7)}번 나왔습니다.')\n",
        "D(7)"
      ],
      "execution_count": null,
      "outputs": [
        {
          "output_type": "stream",
          "name": "stdout",
          "text": [
            "1은 2번, 2는 2번, 3은 1번, 4는 1번, 5는 0번, 6은 0번 나왔습니다.\n"
          ]
        }
      ]
    },
    {
      "cell_type": "markdown",
      "metadata": {
        "id": "R_v3MPkG6zci"
      },
      "source": [
        "####**예제 02 업다운게임**\n",
        "\n",
        "    - 1~100까지 값이 랜덤하게 지정됩니다.\n",
        "    - 랜덤값(정답)이 사용자가 찍은 답보다 높으면 UP\n",
        "    - 랜덤값이 낮으면 DOWN\n",
        "    - 랜덤값을 맞추면 \"CORRECT\"를 출력합니다.\n",
        "    - 사용자가 랜덤값을 맞출 때까지 진행됩니다.\n"
      ]
    },
    {
      "cell_type": "code",
      "metadata": {
        "id": "rchkDnZE6y10",
        "colab": {
          "base_uri": "https://localhost:8080/"
        },
        "outputId": "2fea49ec-8ec9-4c28-d4a7-92e5038ae0cb"
      },
      "source": [
        "a = [i for i in range(1,101)]\n",
        "b = random.choice(a)\n",
        "while True :\n",
        "  input_1 = int(input('1~100까지 숫자중 하나를 고르세요 : '))\n",
        "  if b > input_1 :\n",
        "    print('UP')\n",
        "    continue\n",
        "  elif b < input_1 :\n",
        "   print('DOWN')\n",
        "   continue\n",
        "  else : \n",
        "   print('CORRECT')\n",
        "   break\n",
        "   "
      ],
      "execution_count": null,
      "outputs": [
        {
          "output_type": "stream",
          "name": "stdout",
          "text": [
            "1~100까지 숫자중 하나를 고르세요 : 50\n",
            "DOWN\n",
            "1~100까지 숫자중 하나를 고르세요 : 40\n",
            "DOWN\n",
            "1~100까지 숫자중 하나를 고르세요 : 30\n",
            "DOWN\n",
            "1~100까지 숫자중 하나를 고르세요 : 20\n",
            "DOWN\n",
            "1~100까지 숫자중 하나를 고르세요 : 10\n",
            "UP\n",
            "1~100까지 숫자중 하나를 고르세요 : 15\n",
            "DOWN\n",
            "1~100까지 숫자중 하나를 고르세요 : 13\n",
            "UP\n",
            "1~100까지 숫자중 하나를 고르세요 : 12\n",
            "UP\n",
            "1~100까지 숫자중 하나를 고르세요 : 14\n",
            "CORRECT\n"
          ]
        }
      ]
    },
    {
      "cell_type": "markdown",
      "metadata": {
        "id": "l3NBAKiG7sD8"
      },
      "source": [
        "####**예제 03 숫자야구**\n",
        "\n",
        "    - 0~9까지 값을 지닌 3자리 숫자가 랜덤하게 지정됩니다.\n",
        "    - 각 자리 숫자는 중복되지 않아야 합니다.\n",
        "    - 맞춰야할 랜덤값 3개중 자리수에 상관없이 맞추면 \"볼\", 자리수까지 맞추면 \"홈런\" 입니다.\n",
        "    - 사용자가 지정된 랜덤값을 맞출 때까지 진행됩니다.\n",
        "\n",
        "\n",
        "\n",
        "* 아래 표는 랜덤값이 123일 때 사용자의 입력과 그에 따른 출력을 나타낸 표입니다. \n",
        "\n",
        "입력|출력\n",
        "---|---\n",
        "123| 3볼 3홈런\n",
        "132| 3볼 1홈런\n",
        "231| 3볼 0홈런 \n",
        "125| 2볼 2홈런\n",
        "\n"
      ]
    },
    {
      "cell_type": "code",
      "metadata": {
        "id": "T6yhNpAT6RsJ"
      },
      "source": [
        "an = ['홈런','볼']\n",
        "a = [i for i in range(10)]\n",
        "b = random.choices(a, k=3)\n",
        "c = []\n",
        "if b[0] != b[1] and b[1] !=  b[2] and b[0] != b[2] :\n",
        "  while True :\n",
        "    d = input('세자리 숫자를 입력하세요 : ')\n",
        "    \n",
        "    if b.count(int(d[0])) == 1 :\n",
        "      if b[0] == int(d[0]) :\n",
        "        print(f'1{an[1]}, 1{an[0]}')\n",
        "      else : \n",
        "        print('1볼 0홈런')\n",
        "    elif b.count(int(d[1])) == 1 :\n",
        "      if b[1] == int(d[1]) :\n",
        "        print(f'1{an[1]}, 1{an[0]}')\n",
        "      else : \n",
        "        print('1볼 0홈런')\n",
        "    elif b.count(int(d[2])) == 1 :\n",
        "      if b[2] == int(d[2]) :\n",
        "        print(f'1{an[1]}, 1{an[0]}')\n",
        "      else : \n",
        "         print('1볼 0홈런')\n",
        "\n",
        "\n",
        "    elif b.count(int(d[0])) == 1 and b.count(int(d[1])) == 1 :\n",
        "      if  b[0] == int(d[0]) and b[1] == int(d[1]) :\n",
        "        print(f'2{an[1]}, 2{an[0]}')\n",
        "      else : \n",
        "        print('2볼 0홈런')\n",
        "    elif b.count(int(d[2])) == 1 and b.count(int(d[0])) == 1 :\n",
        "      if b[0] == int(d[0]) and b[2] == int(d[2]) :\n",
        "        print(f'2{an[1]}, 2{an[0]}')\n",
        "      else :\n",
        "        print('2볼 0홈런')\n",
        "    elif b.count(int(d[2])) == 1 and b.count(int(d[1])) == 1 :\n",
        "      if b[1] == int(d[1]) and b[2] == int(d[2]) :\n",
        "        print(f'2{an[1]}, 2{an[0]}')\n",
        "      else : \n",
        "        print('2볼 0홈런')\n",
        "    \n",
        "    elif b.count(int(d[2])) == 1 and b.count(int(d[1])) == 1 and b.count(int(d[0])) == 1 :\n",
        "      if b[1] == int(d[1]) and b[2] == int(d[2]) and  b[0] == int(d[0]) :\n",
        "        print(f'3{an[1]}, 3{an[0]}')\n",
        "      else :\n",
        "        print('3볼 0홈런')\n",
        "    \n",
        "    elif b[0] == int(d[0]) and int(b[1]) == int(d[1]) and int(b[2]) == int(d[2]) :\n",
        "      print('정답입니다!')\n",
        "      break\n",
        "    continue   "
      ],
      "execution_count": null,
      "outputs": []
    },
    {
      "cell_type": "code",
      "source": [
        "import random\n",
        "\n",
        "true=[]\n",
        "while len(set(true))!=3:\n",
        "  true = random.choices([str(i) for i in range(10)], k=3)\n",
        "\n",
        "while True :\n",
        "  H, Ba = 0, 0\n",
        "  answer = input('세자리 숫자를 입력해 주세요 : ')\n",
        "  if len(answer) != 3 :\n",
        "    print('세자리 숫자요 입력')\n",
        "    continue\n",
        "  \n",
        "  for a,b in zip(true, answer) :\n",
        "    if a==b :\n",
        "      H+=1\n",
        "    if b in true :\n",
        "      Ba+=1\n",
        "  print(f'{Ba}볼 {H}홈런')\n",
        "\n",
        "  if H == 3 :\n",
        "    print('정답!')\n",
        "    break"
      ],
      "metadata": {
        "id": "PXXX5kLMx4rL"
      },
      "execution_count": null,
      "outputs": []
    },
    {
      "cell_type": "markdown",
      "metadata": {
        "id": "Mal9fB6ZmXXV"
      },
      "source": [
        "####**예제 04 같은 그림 맞추기**\n",
        "\n",
        "    - 숫자가 1부터 16까지 순서대로 나열됩니다. (4x4 크기).\n",
        "    - 숫자 두개를 고르면 고른 숫자카드 두개는 알파벳이 보여집니다. \n",
        "    - 두 알파벳이 동일하면 알파벳이 보여진채로 다음 숫자 두개를 고릅니다.\n",
        "    - 두 알파벳이 다르면 다시 숫자카드가 보인채로 다음 숫자 두개를 고릅니다.\n",
        "    - 알파벳이 모두 보여지면 게임이 끝납니다.\n",
        "\n",
        "* 예시\n",
        "\n",
        "```\n",
        ">> 같은그림 맞추기 시작! \n",
        "\n",
        "| 1| 2| 3| 4|\n",
        "| 5| 6| 7| 8|\n",
        "| 9|10|11|12|\n",
        "|13|14|15|16|\n",
        "\n",
        ">> 숫자1: 5\n",
        ">> 숫자2: 10\n",
        "\n",
        "| 1| 2| 3| 4|\n",
        "| A| 6| 7| 8|\n",
        "| 9| A|11|12|\n",
        "|13|14|15|16|\n",
        "\n",
        "```\n"
      ]
    },
    {
      "cell_type": "code",
      "source": [
        "card = {1:'A', 2:'B', 3:'C', 4:'D', 5:'E', 6:'F', 7:'G', 8:'H', 9:'A', 10:'B', 11:'C', 12:'D', 13:'E', 14:'F', 15:'G', 16:'H'}\n",
        "\n",
        "list_card = random.sample(list_1,16)\n",
        "\n",
        "list_card\n",
        "\n",
        "list_2 =[]\n",
        "list_2.append(card[list_card[1-1]])\n",
        "print(list_card)\n",
        "list_2"
      ],
      "metadata": {
        "colab": {
          "base_uri": "https://localhost:8080/"
        },
        "id": "_daQd6103PYs",
        "outputId": "c87e4aed-36a3-487e-8097-b2b2ecedb837"
      },
      "execution_count": null,
      "outputs": [
        {
          "output_type": "stream",
          "name": "stdout",
          "text": [
            "[14, 2, 7, 11, 9, 4, 16, 5, 6, 1, 8, 13, 15, 12, 3, 10]\n"
          ]
        },
        {
          "output_type": "execute_result",
          "data": {
            "text/plain": [
              "['F']"
            ]
          },
          "metadata": {},
          "execution_count": 357
        }
      ]
    },
    {
      "cell_type": "code",
      "source": [
        "import random"
      ],
      "metadata": {
        "id": "_fW9kXmkTvRI"
      },
      "execution_count": 5,
      "outputs": []
    },
    {
      "cell_type": "code",
      "source": [
        "# 카드 딕셔너리\n",
        "card = {1:'A', 2:'B', 3:'C', 4:'D', 5:'E', 6:'F', 7:'G', 8:'H', 9:'A', 10:'B', 11:'C', 12:'D', 13:'E', 14:'F', 15:'G', 16:'H'}\n",
        "\n",
        "# list 1 = 1~16\n",
        "list_1 = [n for n in range(1, 17)]\n",
        "list_3 = [n for n in range(1, 17)]\n",
        "\n",
        "# list 카드는 랜덤 숫자 16개\n",
        "list_card = random.sample(list_1,16)\n",
        "list_2 = []\n",
        "\n",
        "# 랜덤 알파벳 리스트\n",
        "while True :\n",
        "  for i in range(1,17) :\n",
        "    list_2.append(card[list_card[i-1]])\n",
        "  if len(list_2) == 16:\n",
        "    break\n",
        "timer_1 = 0\n",
        "\n",
        "\n",
        "while True :\n",
        "\n",
        "  for i in range(0,4):\n",
        "    print(\"|\",end=\"\")\n",
        "    for j in range(0,4):\n",
        "      print(f'{list_1[4*i+j]:>2}',end=\"|\")\n",
        "    print()\n",
        "\n",
        "  a = int(input('첫번째 숫자 : '))\n",
        "  b = int(input('두번째 숫자 : '))\n",
        "\n",
        "  \n",
        "  if list_2[a-1] == list_2[b-1]:\n",
        "  \n",
        "    list_1[a-1] = list_2[a-1]\n",
        "    list_1[b-1] = list_2[b-1]\n",
        "    print('-'*20)\n",
        "    for i in range(0,4):\n",
        "      print(\"|\",end=\"\")\n",
        "      for j in range(0,4):\n",
        "        print(f'{list_1[4*i+j]:>2}',end=\"|\")\n",
        "      print()\n",
        "    print('-'*20)\n",
        "    timer_1 += 8\n",
        "  \n",
        "  else :\n",
        "    list_3[a-1] = list_2[a-1]\n",
        "    list_3[b-1] = list_2[b-1]\n",
        "    print('-'*20)\n",
        "    for i in range(0,4):\n",
        "      print(\"|\",end=\"\")\n",
        "      for j in range(0,4):\n",
        "        print(f'{list_3[4*i+j]:>2}',end=\"|\")\n",
        "      print()\n",
        "    print('-'*20)\n",
        "    \n",
        "  continue\n",
        "\n",
        "  if list_1 in card :\n",
        "    print('정답입니다!')\n",
        "    break"
      ],
      "metadata": {
        "id": "n00jFm5uerD0"
      },
      "execution_count": null,
      "outputs": []
    },
    {
      "cell_type": "code",
      "source": [
        "a = {1:'c', 2:'b'}\n",
        "a.values()"
      ],
      "metadata": {
        "colab": {
          "base_uri": "https://localhost:8080/"
        },
        "id": "q1rVq4yxSQGv",
        "outputId": "52012114-ca03-4f68-e080-2450657945c6"
      },
      "execution_count": 3,
      "outputs": [
        {
          "output_type": "execute_result",
          "data": {
            "text/plain": [
              "dict_values(['c', 'b'])"
            ]
          },
          "metadata": {},
          "execution_count": 3
        }
      ]
    },
    {
      "cell_type": "code",
      "source": [
        "if list_2[a-1] == list_2[b-1]:"
      ],
      "metadata": {
        "id": "vRcLwmzMLFYx"
      },
      "execution_count": null,
      "outputs": []
    }
  ]
}
{
  "nbformat": 4,
  "nbformat_minor": 0,
  "metadata": {
    "colab": {
      "name": "2-6.파이썬의 자료형_딕셔너리.ipynb",
      "provenance": [],
      "collapsed_sections": [],
      "toc_visible": true,
      "include_colab_link": true
    },
    "kernelspec": {
      "name": "python3",
      "display_name": "Python 3"
    },
    "language_info": {
      "name": "python"
    }
  },
  "cells": [
    {
      "cell_type": "markdown",
      "metadata": {
        "id": "view-in-github",
        "colab_type": "text"
      },
      "source": [
        "<a href=\"https://colab.research.google.com/github/TAEWOOYOON/SkillTreePython/blob/main/2_6_%ED%8C%8C%EC%9D%B4%EC%8D%AC%EC%9D%98_%EC%9E%90%EB%A3%8C%ED%98%95_%EB%94%95%EC%85%94%EB%84%88%EB%A6%AC.ipynb\" target=\"_parent\"><img src=\"https://colab.research.google.com/assets/colab-badge.svg\" alt=\"Open In Colab\"/></a>"
      ]
    },
    {
      "cell_type": "markdown",
      "source": [
        "# 2-6.파이썬의 자료형:딕셔너리 \n",
        "---\n",
        "* 날짜: 2022.3.31\n",
        "* 이름: 윤태우"
      ],
      "metadata": {
        "id": "kB5IciXEm6o4"
      }
    },
    {
      "cell_type": "markdown",
      "source": [
        "## 개념정리\n",
        "---\n",
        "\n",
        "\n",
        "딕셔너리(dictionary) 는 `key`와 `value`로 이루어져 있습니다. 마치 사전처럼 특정 `key`에 접근해서 해당 `key`에 해당하는 `value`를 확인할 수 있습니다. 따라서 딕서녀리에서의 인덱싱 방법은 리스트나 튜플과 다르다는 점을 유의해야 합니다."
      ],
      "metadata": {
        "id": "4iN8NFzHRJ2D"
      }
    },
    {
      "cell_type": "markdown",
      "source": [
        "### **(1) 생성**\n",
        "\n",
        "`{ }` 기호를 통해 딕셔너리를 생성할 수 있습니다. 집합(set) 과 달리 딕셔너리에는 `key` 와 `value`가 존재하므로 이를 적어줍니다. 학생들의 이름표가 아래 표처럼 기입되어 있다고 가정합시다.\n",
        "\n",
        "|번호|이름|\n",
        "|--|--|\n",
        "|1|김모모|\n",
        "|2|이모모|\n",
        "|3|강모모|\n",
        "\n",
        "1-김모모, 2-이모모, 3-강모모 와 같이 순서쌍으로 되어있는 데이터를 딕셔너리로 아래와 같이 표현할 수 있습니다.\n",
        "```\n",
        "students = { 1: '김모모', 2: '이모모', 3: '강모모' }\n",
        "print( students, type(students) )\n",
        "```"
      ],
      "metadata": {
        "id": "MAM8MDnfw68b"
      }
    },
    {
      "cell_type": "code",
      "source": [
        "students = { 1: '김모모', 2: '이모모', 3: '강모모' }\n",
        "print( students, type(students) )"
      ],
      "metadata": {
        "id": "Ci3MSqj8mdEo",
        "colab": {
          "base_uri": "https://localhost:8080/"
        },
        "outputId": "1fb67f5d-7c9a-4458-b58b-7688f846927e"
      },
      "execution_count": 1,
      "outputs": [
        {
          "output_type": "stream",
          "name": "stdout",
          "text": [
            "{1: '김모모', 2: '이모모', 3: '강모모'} <class 'dict'>\n"
          ]
        }
      ]
    },
    {
      "cell_type": "markdown",
      "source": [
        "#### **key**\n",
        "\n",
        "* `a.keys()` : 딕셔너리 `a`의 `key` 값들을 반환합니다.\n",
        "\n",
        "딕셔너리 `students`의 `key` 값들을 확인해 봅시다.\n",
        "\n",
        "```\n",
        "students.keys()\n",
        "```"
      ],
      "metadata": {
        "id": "pTXhUDBdmflg"
      }
    },
    {
      "cell_type": "code",
      "source": [
        "students.keys()"
      ],
      "metadata": {
        "id": "kQgNdHn9mhBf",
        "colab": {
          "base_uri": "https://localhost:8080/"
        },
        "outputId": "325268ed-7d8e-40e5-abd5-6c78b3d91a76"
      },
      "execution_count": 2,
      "outputs": [
        {
          "output_type": "execute_result",
          "data": {
            "text/plain": [
              "dict_keys([1, 2, 3])"
            ]
          },
          "metadata": {},
          "execution_count": 2
        }
      ]
    },
    {
      "cell_type": "markdown",
      "source": [
        "반환 값의 타입을 보면 `dict_keys`라는 객체를 돌려주는 것을 볼 수 있습니다. `dict_keys`는 리스트를 사용하는 것과 차이가 거의 없긴 하지만 리스트에서 사용되는 유용한 메서드 (`append`, `remove`, `sort` 등)을 사용할 수 없습니다. 따라서 `dict_keys` 객체를 리스트로 변환하려면 아래와 같이 리스트로 바인딩하고 이 `key`값들을 유용하게 사용할 수 있습니다. \n",
        "\n",
        "```\n",
        "key_list = students.keys()\n",
        "print(key_list)\n",
        "```\n"
      ],
      "metadata": {
        "id": "KkMGhau7mlt0"
      }
    },
    {
      "cell_type": "code",
      "source": [
        "key_list = list(students.keys())\n",
        "print(key_list)"
      ],
      "metadata": {
        "id": "UwBXWvk5mr4v",
        "colab": {
          "base_uri": "https://localhost:8080/"
        },
        "outputId": "d510137d-abaf-449b-9405-b4184c0243d8"
      },
      "execution_count": 4,
      "outputs": [
        {
          "output_type": "stream",
          "name": "stdout",
          "text": [
            "[1, 2, 3]\n"
          ]
        }
      ]
    },
    {
      "cell_type": "markdown",
      "source": [
        "#### **value**\n",
        "\n",
        "* `a.values()` : 딕셔너리 `a`의 `vlalue` 값들을 반환합니다.\n",
        "\n",
        "딕셔너리 `students`의 `value` 값들을 확인해 봅시다.\n",
        "\n",
        "```\n",
        "students.values()\n",
        "```"
      ],
      "metadata": {
        "id": "xSWjMofZmqSd"
      }
    },
    {
      "cell_type": "code",
      "source": [
        "students.values()"
      ],
      "metadata": {
        "id": "Yiu0p9Hvmh7P",
        "colab": {
          "base_uri": "https://localhost:8080/"
        },
        "outputId": "20f992d3-a357-48a0-92d3-6b3c30863cc3"
      },
      "execution_count": 5,
      "outputs": [
        {
          "output_type": "execute_result",
          "data": {
            "text/plain": [
              "dict_values(['김모모', '이모모', '강모모'])"
            ]
          },
          "metadata": {},
          "execution_count": 5
        }
      ]
    },
    {
      "cell_type": "markdown",
      "source": [
        "#### **딕셔너리의 요소**\n",
        "\n",
        "딕셔너리에는 `key`와 `value`로 구성되어 있습니다. `key`값과 `value`값은 문자열과 수치자료형이 모두 가능합니다.\n",
        "\n",
        "```\n",
        "students = { 1: '김모모', 2: '이모모', 3: '강모모' }\n",
        "print(students)\n",
        "students = { '김모모': 1, '이모모': 2, '강모모': 3}\n",
        "print(students)\n",
        "```"
      ],
      "metadata": {
        "id": "y4unWpUtnDRr"
      }
    },
    {
      "cell_type": "code",
      "source": [
        "students = { 1: '김모모', 2: '이모모', 3: '강모모' }\n",
        "print(students)\n",
        "students = { '김모모': 1, '이모모': 2, '강모모': 3}\n",
        "print(students)"
      ],
      "metadata": {
        "id": "N-k0xPDlnCPR",
        "colab": {
          "base_uri": "https://localhost:8080/"
        },
        "outputId": "bf328e65-60b7-4453-8718-5833023305e5"
      },
      "execution_count": 6,
      "outputs": [
        {
          "output_type": "stream",
          "name": "stdout",
          "text": [
            "{1: '김모모', 2: '이모모', 3: '강모모'}\n",
            "{'김모모': 1, '이모모': 2, '강모모': 3}\n"
          ]
        }
      ]
    },
    {
      "cell_type": "markdown",
      "source": [
        "* `value` 값은 리스트로 구성될 수 있습니다.\n",
        "\n",
        "```\n",
        "students = { 1: ['김모모', '여성'], 2: ['이모모', '여성'], 3: ['강모모', '남성'] } \n",
        "print(students)\n",
        "```"
      ],
      "metadata": {
        "id": "L3ivb4yznNkB"
      }
    },
    {
      "cell_type": "code",
      "source": [
        "students = { 1: ['김모모', '여성'], 2: ['이모모', '여성'], 3: ['강모모', '남성'] } \n",
        "print(students)"
      ],
      "metadata": {
        "id": "qq48adJTnIi4",
        "colab": {
          "base_uri": "https://localhost:8080/"
        },
        "outputId": "11ae82ab-4d60-49d6-8fb2-6cb81778aed9"
      },
      "execution_count": 7,
      "outputs": [
        {
          "output_type": "stream",
          "name": "stdout",
          "text": [
            "{1: ['김모모', '여성'], 2: ['이모모', '여성'], 3: ['강모모', '남성']}\n"
          ]
        }
      ]
    },
    {
      "cell_type": "markdown",
      "source": [
        "* `key`값은 리스트로 구성할 수 없습니다.\n",
        "\n",
        "```\n",
        "students = { ['김모모', '여성']:1, ['이모모', '여성']:2, ['강모모', '남성']:3 } \n",
        "print(students)\n",
        "```"
      ],
      "metadata": {
        "id": "q7ai9P_OnZOX"
      }
    },
    {
      "cell_type": "code",
      "source": [
        "students = { ['김모모', '여성']:1, ['이모모', '여성']:2, ['강모모', '남성']:3 } \n",
        "print(students)"
      ],
      "metadata": {
        "id": "B5rMikMYnOrP",
        "colab": {
          "base_uri": "https://localhost:8080/",
          "height": 193
        },
        "outputId": "b6383eda-52f0-4b34-8ca5-4d0060cf80ed"
      },
      "execution_count": 8,
      "outputs": [
        {
          "output_type": "error",
          "ename": "TypeError",
          "evalue": "ignored",
          "traceback": [
            "\u001b[0;31m---------------------------------------------------------------------------\u001b[0m",
            "\u001b[0;31mTypeError\u001b[0m                                 Traceback (most recent call last)",
            "\u001b[0;32m<ipython-input-8-4062b27633bb>\u001b[0m in \u001b[0;36m<module>\u001b[0;34m()\u001b[0m\n\u001b[0;32m----> 1\u001b[0;31m \u001b[0mstudents\u001b[0m \u001b[0;34m=\u001b[0m \u001b[0;34m{\u001b[0m \u001b[0;34m[\u001b[0m\u001b[0;34m'김모모'\u001b[0m\u001b[0;34m,\u001b[0m \u001b[0;34m'여성'\u001b[0m\u001b[0;34m]\u001b[0m\u001b[0;34m:\u001b[0m\u001b[0;36m1\u001b[0m\u001b[0;34m,\u001b[0m \u001b[0;34m[\u001b[0m\u001b[0;34m'이모모'\u001b[0m\u001b[0;34m,\u001b[0m \u001b[0;34m'여성'\u001b[0m\u001b[0;34m]\u001b[0m\u001b[0;34m:\u001b[0m\u001b[0;36m2\u001b[0m\u001b[0;34m,\u001b[0m \u001b[0;34m[\u001b[0m\u001b[0;34m'강모모'\u001b[0m\u001b[0;34m,\u001b[0m \u001b[0;34m'남성'\u001b[0m\u001b[0;34m]\u001b[0m\u001b[0;34m:\u001b[0m\u001b[0;36m3\u001b[0m \u001b[0;34m}\u001b[0m\u001b[0;34m\u001b[0m\u001b[0;34m\u001b[0m\u001b[0m\n\u001b[0m\u001b[1;32m      2\u001b[0m \u001b[0mprint\u001b[0m\u001b[0;34m(\u001b[0m\u001b[0mstudents\u001b[0m\u001b[0;34m)\u001b[0m\u001b[0;34m\u001b[0m\u001b[0;34m\u001b[0m\u001b[0m\n",
            "\u001b[0;31mTypeError\u001b[0m: unhashable type: 'list'"
          ]
        }
      ]
    },
    {
      "cell_type": "markdown",
      "source": [
        "### **(2) 인덱싱과 슬라이싱**\n",
        "\n",
        "딕셔너리 자료형은 인덱싱이 가능하지만 슬라이싱은 불가능합니다.\n",
        "\n",
        "#### **인덱싱**\n",
        "\n",
        "딕셔너리 자료형에서 인덱싱을 하기 위해서는 `key`값을 이용합니다. \n",
        "\n",
        "```\n",
        "students = { 1: '김모모', 2: '이모모', 3: '강모모' }\n",
        "print(students)\n",
        "\n",
        "print(students[1]) \n",
        "print(students[2])\n",
        "print(students[3])\n",
        "```"
      ],
      "metadata": {
        "id": "6USCWJfinhzp"
      }
    },
    {
      "cell_type": "code",
      "source": [
        "students = { 1: '김모모', 2: '이모모', 3: '강모모' }\n",
        "print(students)\n",
        "\n",
        "print(students[1], students[2], students[3])\n",
        "#key값으로 인덱싱, value값 출력"
      ],
      "metadata": {
        "id": "ru9cjc8MnhVA",
        "colab": {
          "base_uri": "https://localhost:8080/"
        },
        "outputId": "62107459-3c6d-499c-afa8-484910c8f723"
      },
      "execution_count": 15,
      "outputs": [
        {
          "output_type": "stream",
          "name": "stdout",
          "text": [
            "{1: '김모모', 2: '이모모', 3: '강모모'}\n",
            "김모모 이모모 강모모\n"
          ]
        }
      ]
    },
    {
      "cell_type": "markdown",
      "source": [
        "### **(3) 수정과 삭제**\n"
      ],
      "metadata": {
        "id": "Jt3KMf5enuzd"
      }
    },
    {
      "cell_type": "markdown",
      "source": [
        "\n",
        "#### **수정**\n",
        "\n",
        "인덱싱을 이용해 `value`값에 접근하여 값을 수정할 수 있습니다.\n",
        "\n",
        "```\n",
        "print(students)\n",
        "students[1] = \"윤모모\" # key 1 해당하는 value를 \"윤모모\"로 변경\n",
        "print(students)\n",
        "```"
      ],
      "metadata": {
        "id": "T4fcddD9n2XQ"
      }
    },
    {
      "cell_type": "code",
      "source": [
        "print(students)\n",
        "students[1] = \"윤모모\" \n",
        "print(students)"
      ],
      "metadata": {
        "id": "FqSnpoQgnf1X",
        "colab": {
          "base_uri": "https://localhost:8080/"
        },
        "outputId": "c94759d9-051b-4150-bac1-8645ffb6fcf8"
      },
      "execution_count": 16,
      "outputs": [
        {
          "output_type": "stream",
          "name": "stdout",
          "text": [
            "{1: '김모모', 2: '이모모', 3: '강모모'}\n",
            "{1: '윤모모', 2: '이모모', 3: '강모모'}\n"
          ]
        }
      ]
    },
    {
      "cell_type": "markdown",
      "source": [
        "#### **삭제**\n",
        "\n",
        "인덱싱을 에용해 `value`값에 접근하고, `del` 을이용해 값을 삭제할 수 있습니다.\n",
        "\n",
        "```\n",
        "print(students)\n",
        "del students[1] # (1-윤모모) 삭제\n",
        "print(students)\n",
        "```\n"
      ],
      "metadata": {
        "id": "8FDcTjVPn_GM"
      }
    },
    {
      "cell_type": "code",
      "source": [
        "print(students)\n",
        "del students[1]\n",
        "print(students)"
      ],
      "metadata": {
        "id": "ssIGMsJ_n5D3",
        "colab": {
          "base_uri": "https://localhost:8080/"
        },
        "outputId": "1a5de950-090e-4519-db09-fa66935be689"
      },
      "execution_count": 17,
      "outputs": [
        {
          "output_type": "stream",
          "name": "stdout",
          "text": [
            "{1: '윤모모', 2: '이모모', 3: '강모모'}\n",
            "{2: '이모모', 3: '강모모'}\n"
          ]
        }
      ]
    },
    {
      "cell_type": "markdown",
      "source": [
        "\n",
        "### **(4) 관련 메서드**"
      ],
      "metadata": {
        "id": "UOJIwkinoRaF"
      }
    },
    {
      "cell_type": "markdown",
      "source": [
        "\n",
        "\n",
        "* `dict.get(k)` : 딕셔너리 `dict`의 key `k`에 해당하는 value를 반환합니다. 인덱싱과 같은 기능을 합니다. \n",
        "\n",
        "```\n",
        "print(students)\n",
        "print(students.get(2)) #  key 2에 해당하는 value 출력 (.get 이용하기)\n",
        "print(students[2]) # key 2에 해당하는 value 출력 (인덱싱 이용하기)\n",
        "```"
      ],
      "metadata": {
        "id": "P4ZTx-WLoFHQ"
      }
    },
    {
      "cell_type": "code",
      "source": [
        "print(students)\n",
        "print(students.get(2), students[2])"
      ],
      "metadata": {
        "id": "EeNW-L8AoDqR",
        "colab": {
          "base_uri": "https://localhost:8080/"
        },
        "outputId": "7c09b088-ee3d-4142-efd9-bfc168dcff16"
      },
      "execution_count": 21,
      "outputs": [
        {
          "output_type": "stream",
          "name": "stdout",
          "text": [
            "{2: '이모모', 3: '강모모'}\n",
            "이모모 이모모\n"
          ]
        }
      ]
    },
    {
      "cell_type": "markdown",
      "source": [
        "* `dict.items()` : 딕셔너리 `dict`의 key 와 value를 튜플 쌍으로 반환합니다.\n",
        "\n",
        "\n",
        "```\n",
        "print(students.items()) # key-value 쌍 출력\n",
        "```\n"
      ],
      "metadata": {
        "id": "IY34hs3NoQCi"
      }
    },
    {
      "cell_type": "code",
      "source": [
        "print(students.items())"
      ],
      "metadata": {
        "id": "GetiL-7-oI9O",
        "colab": {
          "base_uri": "https://localhost:8080/"
        },
        "outputId": "59ee8f2e-6811-475f-91f0-8555cbbcf610"
      },
      "execution_count": 24,
      "outputs": [
        {
          "output_type": "stream",
          "name": "stdout",
          "text": [
            "dict_items([(2, '이모모'), (3, '강모모')])\n"
          ]
        }
      ]
    },
    {
      "cell_type": "markdown",
      "source": [
        "유용하게 사용하기 위해서는 리스트로 바꿔줍니다.\n",
        "\n",
        "```\n",
        "item_list = list(students.items())\n",
        "print(item_list)\n",
        "```"
      ],
      "metadata": {
        "id": "7CJzSn8boYPY"
      }
    },
    {
      "cell_type": "code",
      "source": [
        "students = { 1: '김모모', 2: '이모모', 3: '강모모' }\n",
        "item_list = list(students.items())\n",
        "print(item_list)"
      ],
      "metadata": {
        "id": "ndAt_6B_ohRM",
        "colab": {
          "base_uri": "https://localhost:8080/"
        },
        "outputId": "efc18b02-5f6a-4632-add0-b802020e2ff4"
      },
      "execution_count": 35,
      "outputs": [
        {
          "output_type": "stream",
          "name": "stdout",
          "text": [
            "[(1, '김모모'), (2, '이모모'), (3, '강모모')]\n"
          ]
        }
      ]
    },
    {
      "cell_type": "markdown",
      "source": [
        "리스트 형식으로 `key`와 `value`값에 적절히 접근할 수 있습니다.\n",
        "\n",
        "```\n",
        "print(item_list[0][0]) # 0번째 key\n",
        "print(item_list[0][1]) # 0번째 value\n",
        "print(item_list[1][0]) # 1번째 key\n",
        "print(item_list[1][1]) # 1번째 value\n",
        "```"
      ],
      "metadata": {
        "id": "3Mz2hNPvoiYX"
      }
    },
    {
      "cell_type": "code",
      "source": [
        "print(item_list[0][1])\n",
        "print(item_list[1][1])"
      ],
      "metadata": {
        "id": "l1ggc4rqo5Kg",
        "colab": {
          "base_uri": "https://localhost:8080/"
        },
        "outputId": "8ea7942f-b528-4ff0-d175-eebe507f15ad"
      },
      "execution_count": 36,
      "outputs": [
        {
          "output_type": "stream",
          "name": "stdout",
          "text": [
            "김모모\n",
            "이모모\n"
          ]
        }
      ]
    },
    {
      "cell_type": "markdown",
      "source": [
        "* `dict.clear()` : 딕셔너리 `dict`의 구성요소를 초기화(제거) 합니다.\n",
        "\n",
        "```\n",
        "print(students) # students  출력\n",
        "students.clear() # students 초기화\n",
        "print(students) # students  출력\n",
        "```"
      ],
      "metadata": {
        "id": "NPopL6l8oTw1"
      }
    },
    {
      "cell_type": "code",
      "source": [
        "print(students)\n",
        "students.clear()\n",
        "print(students)"
      ],
      "metadata": {
        "id": "OufFGiD8oUEJ",
        "colab": {
          "base_uri": "https://localhost:8080/"
        },
        "outputId": "269a86cd-449e-4604-a4d4-33004a552084"
      },
      "execution_count": 37,
      "outputs": [
        {
          "output_type": "stream",
          "name": "stdout",
          "text": [
            "{1: '김모모', 2: '이모모', 3: '강모모'}\n",
            "{}\n"
          ]
        }
      ]
    },
    {
      "cell_type": "markdown",
      "source": [
        "## 문제풀이\n",
        "---\n",
        "\n"
      ],
      "metadata": {
        "id": "E2hw7Lu5o-fs"
      }
    },
    {
      "cell_type": "markdown",
      "source": [
        "# 새 섹션"
      ],
      "metadata": {
        "id": "TSpHjOmEU5Vd"
      }
    },
    {
      "cell_type": "markdown",
      "source": [
        "# 새 섹션"
      ],
      "metadata": {
        "id": "_PaTfq77U6TT"
      }
    },
    {
      "cell_type": "markdown",
      "source": [
        "# 새 섹션"
      ],
      "metadata": {
        "id": "6Tpeh4qqU6-k"
      }
    },
    {
      "cell_type": "markdown",
      "source": [
        "**예제 01**\n",
        "\n",
        "과일메뉴와 가격이 다음과 같습니다. 이를 딕셔너리로 저장하세요\n",
        "\n",
        "|과일|가격|\n",
        "--|--\n",
        "사과|1000\n",
        "바나나|2400\n",
        "감자|400|\n",
        "메론|8000\n",
        "복숭아|4000\n",
        "딸기|9000\n"
      ],
      "metadata": {
        "id": "vBBYosZJpASW"
      }
    },
    {
      "cell_type": "code",
      "source": [
        "f = {\"사과\":1000, \"바나나\":2400,\"감자\":400,\"메론\":8000,\"복숭아\":400,\"딸기\":9000}\n",
        "f"
      ],
      "metadata": {
        "id": "NjNzHNhHo8Pm",
        "colab": {
          "base_uri": "https://localhost:8080/"
        },
        "outputId": "3e7bc52f-c864-4ebf-f318-ec113b06cce0"
      },
      "execution_count": 249,
      "outputs": [
        {
          "output_type": "execute_result",
          "data": {
            "text/plain": [
              "{'감자': 400, '딸기': 9000, '메론': 8000, '바나나': 2400, '복숭아': 400, '사과': 1000}"
            ]
          },
          "metadata": {},
          "execution_count": 249
        }
      ]
    },
    {
      "cell_type": "markdown",
      "source": [
        "**예제 02**\n",
        "\n",
        "위에서 만든 딕셔너리에 \"포도\"를 추가하세요 가격은 6500원입니다."
      ],
      "metadata": {
        "id": "EHflY9g-pBpS"
      }
    },
    {
      "cell_type": "code",
      "source": [
        "f1 = list(f.items())\n",
        "f2 = {'포도' : 6500}\n",
        "f2 = list(f2.items())\n",
        "f = dict(f1 + f2)\n",
        "f"
      ],
      "metadata": {
        "id": "AvZFSHdLpCv4",
        "colab": {
          "base_uri": "https://localhost:8080/"
        },
        "outputId": "c12286c1-dd9a-473f-cf79-dbfcd0969b83"
      },
      "execution_count": 250,
      "outputs": [
        {
          "output_type": "execute_result",
          "data": {
            "text/plain": [
              "{'감자': 400,\n",
              " '딸기': 9000,\n",
              " '메론': 8000,\n",
              " '바나나': 2400,\n",
              " '복숭아': 400,\n",
              " '사과': 1000,\n",
              " '포도': 6500}"
            ]
          },
          "metadata": {},
          "execution_count": 250
        }
      ]
    },
    {
      "cell_type": "markdown",
      "source": [
        "**예제 03**\n",
        "\n",
        "위에서 만든 딕셔너리에 \"감자\"를 삭제하세요\n"
      ],
      "metadata": {
        "id": "RqOkRDTspC5V"
      }
    },
    {
      "cell_type": "code",
      "source": [
        "del f['감자']\n",
        "print(f)"
      ],
      "metadata": {
        "id": "Z46WP9k2pDYQ",
        "colab": {
          "base_uri": "https://localhost:8080/"
        },
        "outputId": "e6551b79-0486-432b-84b0-9258e6eead16"
      },
      "execution_count": 251,
      "outputs": [
        {
          "output_type": "stream",
          "name": "stdout",
          "text": [
            "{'사과': 1000, '바나나': 2400, '메론': 8000, '복숭아': 400, '딸기': 9000, '포도': 6500}\n"
          ]
        }
      ]
    },
    {
      "cell_type": "markdown",
      "source": [
        "**예제 04**\n",
        "\n",
        "복숭아 가격이 올라 4500원이 되었습니다. 가격을 조정하세요"
      ],
      "metadata": {
        "id": "o6HRTQy3pDeI"
      }
    },
    {
      "cell_type": "code",
      "source": [
        "f = {'사과': 1000, '바나나': 2400, '메론': 8000, '복숭아': 400, '딸기': 9000, '포도': 6500}\n",
        "f['복숭아'] =  4500\n",
        "print(f)"
      ],
      "metadata": {
        "id": "w7MSSt_ypEJ0",
        "colab": {
          "base_uri": "https://localhost:8080/"
        },
        "outputId": "b16016b6-a987-4866-91ac-04b817675da8"
      },
      "execution_count": 254,
      "outputs": [
        {
          "output_type": "stream",
          "name": "stdout",
          "text": [
            "{'사과': 1000, '바나나': 2400, '메론': 8000, '복숭아': 4500, '딸기': 9000, '포도': 6500}\n"
          ]
        }
      ]
    },
    {
      "cell_type": "markdown",
      "source": [
        "**예제 05**\n",
        "\n",
        "위에서 정의한 딕셔너리의 key 값들만 이용해서 아래와 같이 출력되도록 세줄의 코드를 작성하세요\n",
        "\n",
        "* 코드\n",
        "```\n",
        "# key값을 리스트로 변환합니다.\n",
        "# 리스트를 문자열로 변환합니다.\n",
        "# 문자열을 출력합니다.\n",
        "```\n",
        "\n",
        "* 실행 결과\n",
        "```\n",
        "가게 과일 종류는 사과, 바나나, 메론, 봉숭아, 딸기, 포도 입니다!\n",
        "```"
      ],
      "metadata": {
        "id": "W4tcYa3MpEOc"
      }
    },
    {
      "cell_type": "code",
      "source": [
        "key_1 = list(f.keys())\n",
        "key_1 = str(key_1)\n",
        "print(f'가게 과일 종류는 {key_1} 입니다!')"
      ],
      "metadata": {
        "id": "opdEEVMHpFQx",
        "colab": {
          "base_uri": "https://localhost:8080/"
        },
        "outputId": "bde56495-414e-4d42-bbe9-292f1733f4c1"
      },
      "execution_count": 257,
      "outputs": [
        {
          "output_type": "stream",
          "name": "stdout",
          "text": [
            "가게 과일 종류는 ['사과', '바나나', '메론', '복숭아', '딸기', '포도'] 입니다!\n"
          ]
        }
      ]
    },
    {
      "cell_type": "markdown",
      "source": [
        "**예제 06**\n",
        "\n",
        "위에서 정의한 딕셔너리를 이용해서 사용자가 과일 종류 한가지를 입력하면 해당 과일의 가격을 출력하는 코드를 작성하세요\n",
        "\n",
        "* 실행 결과\n",
        "```\n",
        ">> 어떤 과일을 찾으시나요?: 사과\n",
        "사과의 가격은 1000원 입니다.\n",
        "```"
      ],
      "metadata": {
        "id": "x2E746EdpFWN"
      }
    },
    {
      "cell_type": "code",
      "source": [
        "a = input('어떤 과일을 찾으시나요? : ')\n",
        "print(f'{a}의 가격은 {f[a]}원 입니다.')"
      ],
      "metadata": {
        "id": "A4_O8rJepQtv",
        "colab": {
          "base_uri": "https://localhost:8080/"
        },
        "outputId": "2736999a-ae47-4b70-ce1f-db9fd48e03fc"
      },
      "execution_count": 259,
      "outputs": [
        {
          "output_type": "stream",
          "name": "stdout",
          "text": [
            "어떤 과일을 찾으시나요? : 사과\n",
            "사과의 가격은 1000원 입니다.\n"
          ]
        }
      ]
    },
    {
      "cell_type": "markdown",
      "source": [
        "**예제 07**\n",
        "\n",
        "커피를 `key`로, 가격과 재고가 들어있는 리스트를 `value` 로 하는 딕셔너리를 구성하여 `caffe_menu`로 바인딩하세요.\n",
        "\n",
        "|이름| 가격 | 재고 |\n",
        "|------| -----|----|\n",
        "|americano|1000|8\n",
        "|latte|1200|5\n",
        "|milk tea|1800|4\n"
      ],
      "metadata": {
        "id": "Jn6EOaYdpmJi"
      }
    },
    {
      "cell_type": "code",
      "source": [
        "caffe_menu = {'americano' : [1000, 8], 'latte' : [1200, 5], 'milk tea' : [1800, 4]}\n",
        "type(caffe_menu)"
      ],
      "metadata": {
        "id": "4mBLSS4TpnfO",
        "colab": {
          "base_uri": "https://localhost:8080/"
        },
        "outputId": "26d9a4d4-e4ab-4b0c-b172-1bf29ab64b55"
      },
      "execution_count": 295,
      "outputs": [
        {
          "output_type": "execute_result",
          "data": {
            "text/plain": [
              "dict"
            ]
          },
          "metadata": {},
          "execution_count": 295
        }
      ]
    },
    {
      "cell_type": "markdown",
      "source": [
        "**예제 08**\n",
        "\n",
        "americano의 재고를 출력하세요\n"
      ],
      "metadata": {
        "id": "wnkXcxJNpsQd"
      }
    },
    {
      "cell_type": "code",
      "source": [
        "print(caffe_menu['americano'][1])"
      ],
      "metadata": {
        "id": "tnwv8DN9ptEt",
        "colab": {
          "base_uri": "https://localhost:8080/"
        },
        "outputId": "fdd40667-369b-4530-a55f-dbbce0507ea2"
      },
      "execution_count": 296,
      "outputs": [
        {
          "output_type": "stream",
          "name": "stdout",
          "text": [
            "8\n"
          ]
        }
      ]
    },
    {
      "cell_type": "markdown",
      "source": [
        "\n",
        "**예제 09**\n",
        "\n",
        "latte의 가격을 출력하세요"
      ],
      "metadata": {
        "id": "wRw90-mHptKS"
      }
    },
    {
      "cell_type": "code",
      "source": [
        "print(caffe_menu['latte'][0])"
      ],
      "metadata": {
        "id": "wX5wz3bqpt7R",
        "colab": {
          "base_uri": "https://localhost:8080/"
        },
        "outputId": "69f7c83c-6115-47cf-f8c9-9da3559e1f11"
      },
      "execution_count": 297,
      "outputs": [
        {
          "output_type": "stream",
          "name": "stdout",
          "text": [
            "1200\n"
          ]
        }
      ]
    },
    {
      "cell_type": "markdown",
      "source": [
        "**예제 10**\n",
        "\n",
        "모든 가격의 평균을 출력하는 코드를 작성하세요"
      ],
      "metadata": {
        "id": "bHKHg1UJpuA4"
      }
    },
    {
      "cell_type": "code",
      "source": [
        "a = list(caffe_menu.keys())\n",
        "(caffe_menu[a[0]][0] + caffe_menu[a[1]][0]+caffe_menu[a[2]][0])/3"
      ],
      "metadata": {
        "id": "W_V1N7SDpvBh",
        "colab": {
          "base_uri": "https://localhost:8080/"
        },
        "outputId": "ef42a51f-12b4-4f0f-c5f3-97a8b4448895"
      },
      "execution_count": 298,
      "outputs": [
        {
          "output_type": "execute_result",
          "data": {
            "text/plain": [
              "1333.3333333333333"
            ]
          },
          "metadata": {},
          "execution_count": 298
        }
      ]
    },
    {
      "cell_type": "markdown",
      "source": [
        "**예제 11**\n",
        "\n",
        "모든 가장 비싼 음료를 출력하는 코드를 작성하세요"
      ],
      "metadata": {
        "id": "UGj-HLxApvKn"
      }
    },
    {
      "cell_type": "code",
      "source": [
        "m = [caffe_menu[a[0]][0], caffe_menu[a[1]][0], caffe_menu[a[2]][0]]\n",
        "max(m)"
      ],
      "metadata": {
        "id": "rSCh6S4opwEC",
        "colab": {
          "base_uri": "https://localhost:8080/"
        },
        "outputId": "1aa87a43-efdb-4636-9485-fcd158d9d086"
      },
      "execution_count": 299,
      "outputs": [
        {
          "output_type": "execute_result",
          "data": {
            "text/plain": [
              "1800"
            ]
          },
          "metadata": {},
          "execution_count": 299
        }
      ]
    },
    {
      "cell_type": "markdown",
      "source": [
        "**예제 12**\n",
        "\n",
        "우유값의 인상으로 latte와 milk tea의 가격이 300원씩 올랐습니다. `caffe_menu`에 반영하세요. (딕셔너리 자체를 재바인딩 하지 않도록 코드를 작성하세요.)"
      ],
      "metadata": {
        "id": "Ll9-2W1ZqVPP"
      }
    },
    {
      "cell_type": "code",
      "source": [
        "caffe_menu['latte'][0] = 1500\n",
        "caffe_menu['milk tea'][0] = 2100\n",
        "print(caffe_menu)"
      ],
      "metadata": {
        "id": "VnpW2XlJqVay",
        "colab": {
          "base_uri": "https://localhost:8080/"
        },
        "outputId": "54277c95-54d7-41ee-ec7f-3549222553af"
      },
      "execution_count": 300,
      "outputs": [
        {
          "output_type": "stream",
          "name": "stdout",
          "text": [
            "{'americano': [1000, 8], 'latte': [1500, 5], 'milk tea': [2100, 4]}\n"
          ]
        }
      ]
    },
    {
      "cell_type": "markdown",
      "source": [
        "**예제 13**\n",
        "\n",
        "가격, 재고 외에 판매수 라는 정보를 더 추가하려 합니다. 판매수는 americano 15개, latte 8개, milk tea 5개 입니다. `caffe_menu`의 `value`에 판매수를 추가하세요.  (딕셔너리 자체를 재바인딩 하지 않도록 코드를 작성하세요.)\n"
      ],
      "metadata": {
        "id": "ffpR-aIzpwQn"
      }
    },
    {
      "cell_type": "code",
      "source": [
        "caffe_menu['americano'] = [1000, 8, 15]\n",
        "caffe_menu['latte'] = [1500, 5, 8]\n",
        "caffe_menu['milk tea'] = [2100, 4, 5]\n",
        "print(caffe_menu)"
      ],
      "metadata": {
        "id": "ZhtuPrubpxhN",
        "colab": {
          "base_uri": "https://localhost:8080/"
        },
        "outputId": "ec418f7e-1aef-4ea5-d73e-b22c8c0e9434"
      },
      "execution_count": 301,
      "outputs": [
        {
          "output_type": "stream",
          "name": "stdout",
          "text": [
            "{'americano': [1000, 8, 15], 'latte': [1500, 5, 8], 'milk tea': [2100, 4, 5]}\n"
          ]
        }
      ]
    },
    {
      "cell_type": "markdown",
      "source": [
        "**예제 14**\n",
        "\n",
        "재고 자동화로 더이상 재고 데이터가 필요없게 되었습니다. `caffe_menu`에서  재고에 관한 값을 제거하세요. (딕셔너리 자체를 재바인딩 하지 않도록 코드를 작성하세요.)"
      ],
      "metadata": {
        "id": "hH-ILO6gqlxi"
      }
    },
    {
      "cell_type": "code",
      "source": [
        "caffe_menu = {'americano': [1000, 8, 15], 'latte': [1500, 5, 8], 'milk tea': [2100, 4, 5]}\n",
        "del caffe_menu['americano'][2]\n",
        "del caffe_menu['latte'][2]\n",
        "del caffe_menu['milk tea'][2]\n",
        "print(caffe_menu)"
      ],
      "metadata": {
        "id": "MGHM3OKIqlxj",
        "colab": {
          "base_uri": "https://localhost:8080/"
        },
        "outputId": "af18207a-e5f6-49ac-94ee-25716db641cc"
      },
      "execution_count": 371,
      "outputs": [
        {
          "output_type": "stream",
          "name": "stdout",
          "text": [
            "{'americano': [1000, 8], 'latte': [1500, 5], 'milk tea': [2100, 4]}\n"
          ]
        }
      ]
    },
    {
      "cell_type": "markdown",
      "source": [
        "**예제 15**\n",
        "\n",
        "새로운 메뉴 `vanilla latte`가 추가되었습니다. 가격은 2000원이고 판매수는 0입니다. `caffe_menu`에 추가하세요."
      ],
      "metadata": {
        "id": "ayPk9FlFq3tf"
      }
    },
    {
      "cell_type": "code",
      "source": [
        "print(caffe_menu)\n",
        "caffe_menu = list(caffe_menu.items())\n",
        "a = {'vanila latte' : [2000, 0]}\n",
        "a = list(a.items())\n",
        "caffe_menu.extend(list(a))\n",
        "print(dict(caffe_menu))"
      ],
      "metadata": {
        "id": "9MXlfxTLq3tl",
        "colab": {
          "base_uri": "https://localhost:8080/"
        },
        "outputId": "2848f221-3bfd-4b8b-e4e2-922e9eaed9b7"
      },
      "execution_count": 372,
      "outputs": [
        {
          "output_type": "stream",
          "name": "stdout",
          "text": [
            "{'americano': [1000, 8], 'latte': [1500, 5], 'milk tea': [2100, 4]}\n",
            "{'americano': [1000, 8], 'latte': [1500, 5], 'milk tea': [2100, 4], 'vanila latte': [2000, 0]}\n"
          ]
        }
      ]
    },
    {
      "cell_type": "markdown",
      "source": [
        "**예제 16**\n",
        "\n",
        "아래와 같이 코드를 실행하면 메뉴를 띄우고, 사용자가 메뉴를 입력하면 메뉴에 대한 정보를 출력하는 코드를 작성하세요.\n",
        "\n",
        "* 실행 결과\n",
        "```\n",
        ">> 메뉴: americano * latte * milk tea * vanilla latte\n",
        ">> 메뉴를 선택하세요: milk tea\n",
        "milk tea 의 가격은 2100원이고 오늘 5개 팔렸습니다.\n",
        "```\n"
      ],
      "metadata": {
        "id": "12io9CvxpSeZ"
      }
    },
    {
      "cell_type": "code",
      "source": [
        "caffe_menu = {'americano': [1000, 8], 'latte': [1500, 5], 'milk tea': [2100, 4], 'vanila latte': [2000, 0]}"
      ],
      "metadata": {
        "id": "UnKFAQ0B3PAl"
      },
      "execution_count": 2,
      "outputs": []
    },
    {
      "cell_type": "code",
      "source": [
        " print('메뉴: americano * latte * milk tea * vanilla latte')\n",
        "a = input('메뉴를 선택하세요 : ')\n",
        "print(f'{a}의 가격은 {caffe_menu[a][0]}원이고 오늘 {caffe_menu[a][1]}개 팔렸습니다.')"
      ],
      "metadata": {
        "id": "rBVfpGbppTqv",
        "colab": {
          "base_uri": "https://localhost:8080/"
        },
        "outputId": "d0c8a855-8c74-447f-ffcd-2d32fa4256b9"
      },
      "execution_count": 5,
      "outputs": [
        {
          "output_type": "stream",
          "name": "stdout",
          "text": [
            "메뉴: americano * latte * milk tea * vanilla latte\n",
            "메뉴를 선택하세요 : americano\n",
            "americano의 가격은 1000원이고 오늘 8개 팔렸습니다.\n"
          ]
        }
      ]
    },
    {
      "cell_type": "markdown",
      "source": [
        "**예제 17**\n",
        "\n",
        "아래와 같이 사용자가 0부터 9까지 숫자를 입력하면 한국어로 변환하는 코드를 작성하세요. \n",
        "\n",
        "* 실행 결과\n",
        "```\n",
        ">> 0부터 9까지 숫자를 입력하세요: 7\n",
        "7은 한국어로 \"칠\" 이라고 읽습니다.\n",
        "```\n"
      ],
      "metadata": {
        "id": "uS21dCdOrsr_"
      }
    },
    {
      "cell_type": "code",
      "source": [
        "N = {1:'하나', 2:'둘', 3:'셋', 4:'넷', 5:'다섯', 6:'여섯', 7:'일곱', 8:'여덟', 9:'아홉'}\n",
        "n = int(input('0부터 9까지 숫자를 입력하세요 : '))\n",
        "print(f'{n}은 한국어로 {N[n]} 이라고 읽습니다.')"
      ],
      "metadata": {
        "id": "bPbTUijmrsr_",
        "colab": {
          "base_uri": "https://localhost:8080/"
        },
        "outputId": "51020cd8-2ee2-477d-e9ca-a498b8747b4d"
      },
      "execution_count": 8,
      "outputs": [
        {
          "output_type": "stream",
          "name": "stdout",
          "text": [
            "0부터 9까지 숫자를 입력하세요 : 7\n",
            "7은 한국어로 일곱 이라고 읽습니다.\n"
          ]
        }
      ]
    },
    {
      "cell_type": "markdown",
      "source": [
        "**예제 18**\n",
        "\n",
        "아래와 같이 딕셔너리가 정의되어 있습니다. 알파벳을 입력하면 아래와 같은 실행 결과를 내는 코드를 작성하세요.\n",
        "\n",
        "```\n",
        "abc_dict = {'a': ['apple', 'air'], 'b': ['banana', 'book'] , 'c' : ['cherry', 'car']}\n",
        "```\n",
        "\n",
        "* 실행 결과\n",
        "```\n",
        ">> alphabet : a\n",
        "a is apple, a is air\n",
        "```\n",
        "\n",
        "* 실행 결과\n",
        "```\n",
        ">> alphabet : b\n",
        "b is banana, b is book\n",
        "```\n"
      ],
      "metadata": {
        "id": "ll-l2MJUrtCn"
      }
    },
    {
      "cell_type": "code",
      "source": [
        "abc_dict = {'a': ['apple', 'air'], 'b': ['banana', 'book'] , 'c' : ['cherry', 'car']}\n",
        "l = input('alphabet : ')\n",
        "print(f'{l} is {abc_dict[l][0]}, {l} is {abc_dict[l][1]}')"
      ],
      "metadata": {
        "id": "_LNc0bKKrtCn",
        "colab": {
          "base_uri": "https://localhost:8080/"
        },
        "outputId": "cd165e7d-98c8-46bc-d1f1-6eb5653631d0"
      },
      "execution_count": 15,
      "outputs": [
        {
          "output_type": "stream",
          "name": "stdout",
          "text": [
            "alphabet : a\n",
            "a is apple, a is air\n"
          ]
        }
      ]
    },
    {
      "cell_type": "code",
      "source": [
        "abc_dict = {'a': ['apple', 'air'], 'b': ['banana', 'book'] , 'c' : ['cherry', 'car']}\n",
        "l = input('alphabet : ')\n",
        "print(f'{l} is {abc_dict[l][0]}, {l} is {abc_dict[l][1]}')"
      ],
      "metadata": {
        "colab": {
          "base_uri": "https://localhost:8080/"
        },
        "id": "mJwWL4dM5k39",
        "outputId": "04857475-7046-470c-e021-c8355705eb42"
      },
      "execution_count": 16,
      "outputs": [
        {
          "output_type": "stream",
          "name": "stdout",
          "text": [
            "alphabet : b\n",
            "b is banana, b is book\n"
          ]
        }
      ]
    },
    {
      "cell_type": "markdown",
      "source": [
        "**예제 19**\n",
        "\n",
        "아래와 같이 딕셔너리가 정의되어 있습니다. 알파벳을 입력하면 아래와 같은 실행 결과를 내는 코드를 작성하세요.\n",
        "\n",
        "```\n",
        "abc_dict = {'a': ['apple', 'air'], 'b': ['banana', 'book'] , 'c' : ['cherry', 'car']}\n",
        "```\n",
        "\n",
        "* 실행 결과\n",
        "```\n",
        ">> alphabet : a\n",
        "a is Apple, a is Air\n",
        "```\n",
        "\n",
        "* 실행 결과\n",
        "```\n",
        ">> alphabet : b\n",
        "b is Banana, b is Book\n",
        "```\n"
      ],
      "metadata": {
        "id": "AUslSi-ct6w2"
      }
    },
    {
      "cell_type": "code",
      "source": [
        "abc_dict = {'a': ['apple', 'air'], 'b': ['banana', 'book'] , 'c' : ['cherry', 'car']}\n",
        "l = input('alphabet : ')\n",
        "k = abc_dict[l][0]\n",
        "p = abc_dict[l][1]\n",
        "print(f'{l} is {k.capitalize()}, {l} is {p.capitalize()}')"
      ],
      "metadata": {
        "id": "ZM8oRmBPt6w8",
        "colab": {
          "base_uri": "https://localhost:8080/"
        },
        "outputId": "d593615f-4bd1-4c46-a620-cddb11c7e7e9"
      },
      "execution_count": 20,
      "outputs": [
        {
          "output_type": "stream",
          "name": "stdout",
          "text": [
            "alphabet : a\n",
            "a is Apple, a is Air\n"
          ]
        }
      ]
    },
    {
      "cell_type": "markdown",
      "source": [
        "**예제 20**\n",
        "\n",
        "아래와 같이 딕셔너리가 정의되어 있습니다. 알파벳을 입력하면 아래와 같은 실행 결과를 내는 코드를 작성하세요.\n",
        "\n",
        "```\n",
        "abc_dict = {'a': ['apple', 'air'], 'b': ['banana', 'book'] , 'c' : ['cherry', 'car']}\n",
        "```\n",
        "\n",
        "* 실행 결과\n",
        "```\n",
        ">> alphabet : a\n",
        ">> num : 0\n",
        "a is Apple\n",
        "```\n",
        "\n",
        "* 실행 결과\n",
        "```\n",
        ">> alphabet : b\n",
        ">> num : 1\n",
        "b is Book\n",
        "```\n"
      ],
      "metadata": {
        "id": "xTC4HPlzuF-i"
      }
    },
    {
      "cell_type": "code",
      "source": [
        "abc_dict = {'a': ['apple', 'air'], 'b': ['banana', 'book'] , 'c' : ['cherry', 'car']}\n",
        "l = input('alphabet : ')\n",
        "k = abc_dict[l][0]\n",
        "p = abc_dict[l][1]\n",
        "abc_dict = list(abc_dict)\n",
        "print(f'num  : {abc_dict.index(l)}')\n",
        "print(f'{l} is {k.capitalize()}')"
      ],
      "metadata": {
        "id": "TMyWR9-buF-p",
        "colab": {
          "base_uri": "https://localhost:8080/"
        },
        "outputId": "240a3573-5ec0-46bc-d854-308e5ae334fe"
      },
      "execution_count": 44,
      "outputs": [
        {
          "output_type": "stream",
          "name": "stdout",
          "text": [
            "alphabet : b\n",
            "num  : 1\n",
            "b is Banana\n"
          ]
        }
      ]
    }
  ]
}
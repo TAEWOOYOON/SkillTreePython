{
  "nbformat": 4,
  "nbformat_minor": 0,
  "metadata": {
    "colab": {
      "name": "5-1.클래스_클래스의기본사용.ipynb",
      "provenance": [],
      "collapsed_sections": [],
      "include_colab_link": true
    },
    "kernelspec": {
      "name": "python3",
      "display_name": "Python 3"
    },
    "language_info": {
      "name": "python"
    }
  },
  "cells": [
    {
      "cell_type": "markdown",
      "metadata": {
        "id": "view-in-github",
        "colab_type": "text"
      },
      "source": [
        "<a href=\"https://colab.research.google.com/github/TAEWOOYOON/SkillTreePython/blob/main/5_1_%ED%81%B4%EB%9E%98%EC%8A%A4_%ED%81%B4%EB%9E%98%EC%8A%A4%EC%9D%98%EA%B8%B0%EB%B3%B8%EC%82%AC%EC%9A%A9.ipynb\" target=\"_parent\"><img src=\"https://colab.research.google.com/assets/colab-badge.svg\" alt=\"Open In Colab\"/></a>"
      ]
    },
    {
      "cell_type": "markdown",
      "metadata": {
        "id": "jgFAOz-Tw1VI"
      },
      "source": [
        "5-1.클래스:클래스의 기본 사용\n",
        "---\n",
        "* 날짜: 2022.04.04\n",
        "* 이름: 윤태우\n"
      ]
    },
    {
      "cell_type": "markdown",
      "metadata": {
        "id": "roC8A6Ro6THT"
      },
      "source": [
        "## 개념정리\n",
        "---\n",
        "\n"
      ]
    },
    {
      "cell_type": "markdown",
      "source": [
        "프로그래밍 언어는 크게 두가지 실행 방식으로 나뉠수 있습니다.\n",
        "\n",
        "* **절차지향적 코드**\n",
        "  - 위에서부터 아래로 순서대로 코드가 진행된다.\n",
        "  - ex) c++는 절차지향만을 사용\n",
        "\n",
        "* **객체지향적 코드**\n",
        "  - 객체지향은 객체를 만들어서 이 객체를 언제, 어디서든, 몇개든 사용할 수 있도록 하는 것\n",
        "  - ex) 자바, 파이썬 등\n",
        "\n"
      ],
      "metadata": {
        "id": "Ee54frgJYOr8"
      }
    },
    {
      "cell_type": "markdown",
      "metadata": {
        "id": "4azv1P74n23k"
      },
      "source": [
        "###**(1) 정의**\n",
        "\n",
        "클래스는 아래와 같이 정의 할 수 있습니다. \n",
        "\n",
        "\n",
        "```\n",
        "class Student:\n",
        "    pass\n",
        "```\n",
        "\n"
      ]
    },
    {
      "cell_type": "code",
      "metadata": {
        "id": "myVCV-mSn23l"
      },
      "source": [
        "class Student :\n",
        "  pass"
      ],
      "execution_count": null,
      "outputs": []
    },
    {
      "cell_type": "markdown",
      "source": [
        "클래스를 만들어 놓으면 틀만 만들어 놓은것과 같습니다. 이제 틀을 이용하여 인스턴스를 만들어 봅시다. "
      ],
      "metadata": {
        "id": "7jJg3FA2iRtY"
      }
    },
    {
      "cell_type": "markdown",
      "metadata": {
        "id": "KCOmBjQRn23l"
      },
      "source": [
        "###**(2) 인스턴스 생성**\n",
        "\n",
        "인스턴스란 위에서 만든 클래스라는 틀을 이용해 똑같은 일을 하는 함수들을 찍어내는 것을 말합니다. Student 클래스의 인스턴스를 생성하고 이를 me 라는 변수로 바인딩합시다.\n",
        "\n",
        "```\n",
        "me = Student()\n",
        "```\n",
        "\n"
      ]
    },
    {
      "cell_type": "code",
      "metadata": {
        "id": "HJi-ra_wn23l"
      },
      "source": [
        "me = Student()"
      ],
      "execution_count": null,
      "outputs": []
    },
    {
      "cell_type": "markdown",
      "source": [
        "이제부터는 `me`라는 객체를 이용해서 클래스 내부의 여러가지 기능을 사용할 수 있습니다. 하지만 우리가 방금 만든 `Student`라는 클래스는 아무런 기능을 하지 않습니다. 기능을 할 수 있도록 클래스 내부에 속성을 추가해 봅시다. "
      ],
      "metadata": {
        "id": "ZkrmiFLzlWzX"
      }
    },
    {
      "cell_type": "markdown",
      "metadata": {
        "id": "QZ3_evMHn23l"
      },
      "source": [
        "###**(3) 속성**"
      ]
    },
    {
      "cell_type": "markdown",
      "source": [
        "#### **초기화 메서드**\n",
        "\n",
        "\n",
        "`__init__` 메서드는 초기화 메서드입니다. 클래스가 생성되면 `__init__` 메서드가 자동적으로 실행되며 클래스의 값을 지정된 값으로 초기화 합니다. 이 때 값은 인스턴스를 만들 때 넣어준 인자로 만듭니다. \n",
        "\n",
        "`Student` 클래스에 이를 이용해 초기값을 세팅해 봅시다. 학생의 이름과 수강 과목, 그리고 레벨을 정의합시다. 이름과 수강 과목은 인스턴스를 생성할 때 입려개하도록 하고, 레벨은 0부터 시작하도록 합시다.\n",
        "\n",
        "\n",
        "```\n",
        "class Student():\n",
        "    def __init__(self, name, subject):\n",
        "      self.name = name\n",
        "      self.subject = subject\n",
        "      self.level = 0\n",
        "\n",
        "me = Student(\"김모모\", \"기초반\")\n",
        "\n",
        "```"
      ],
      "metadata": {
        "id": "PDR3CtnZoUj1"
      }
    },
    {
      "cell_type": "markdown",
      "source": [
        "class에 init 사용하려면 self 필요"
      ],
      "metadata": {
        "id": "2FxzvJHVoYXr"
      }
    },
    {
      "cell_type": "markdown",
      "metadata": {
        "id": "P3KmS4awqk6E"
      },
      "source": [
        "* 클래스 생성"
      ]
    },
    {
      "cell_type": "code",
      "metadata": {
        "id": "tUKx8JbCqk6F"
      },
      "source": [
        "class Student() :\n",
        "  def __init__(self, name, subject) :\n",
        "    self.name = name\n",
        "    self.subject = subject\n",
        "    self.level = 0\n",
        "\n",
        "  def introduce(self) :\n",
        "    print(f'반갑습니다! {self.subject} 수업을 듣는 {self.name} 입니다.')"
      ],
      "execution_count": null,
      "outputs": []
    },
    {
      "cell_type": "markdown",
      "metadata": {
        "id": "NUcDQ1mUqk6F"
      },
      "source": [
        "* 인스턴스 생성"
      ]
    },
    {
      "cell_type": "code",
      "metadata": {
        "id": "KKAusE2Hqk6F"
      },
      "source": [
        "me = Student('윤태우', '딥러닝프레임워크')"
      ],
      "execution_count": null,
      "outputs": []
    },
    {
      "cell_type": "markdown",
      "metadata": {
        "id": "qjwD6iv4n23m"
      },
      "source": [
        "####**인스턴스 속성 접근**\n",
        "\n",
        "위에서 생성한 인스턴스의 속성들 name, subject, level에 접근하고 출력합니다. \n",
        "```\n",
        "me.name, me.subject, me.level\n",
        "```"
      ]
    },
    {
      "cell_type": "code",
      "metadata": {
        "id": "7tuZarTSn23m",
        "colab": {
          "base_uri": "https://localhost:8080/"
        },
        "outputId": "9c3a0bca-82ea-4b98-bca0-548c96072b5e"
      },
      "source": [
        "me.name, me.subject"
      ],
      "execution_count": null,
      "outputs": [
        {
          "output_type": "execute_result",
          "data": {
            "text/plain": [
              "('윤태우', '딥러닝프레임워크')"
            ]
          },
          "metadata": {},
          "execution_count": 13
        }
      ]
    },
    {
      "cell_type": "markdown",
      "metadata": {
        "id": "p0QGxnV3n23m"
      },
      "source": [
        "###**(4) 클래스 메서드**\n",
        "\n",
        "class 안에서 메서드를 추가 할 수 있습니다. Student 클래스 안에 인사를 출력하는 `introduce` 메서드를 추가해보겠습니다. \n",
        "클래스 안에 메서드를 만들 때는 기본적으로 메서드 안에 `self`가 들어가야 합니다. \n",
        "\n",
        "```\n",
        "# 클래스 생성\n",
        "class Student():\n",
        "    def __init__(self, name, subject):\n",
        "      self.name = name\n",
        "      self.subject = subject\n",
        "      self.level = 0\n",
        "\n",
        "    def introduce(self):\n",
        "      print(f\"안녕하세요. {self.subject} 수업을 듣는 {self.name} 입니다.\")\n",
        "\n",
        "# 인스턴스 생성\n",
        "me = Student(\"김모모\", \"기초반\")\n",
        "\n",
        "# 메서드 실행\n",
        "me.introduce()\n",
        "```"
      ]
    },
    {
      "cell_type": "markdown",
      "metadata": {
        "id": "7st1KEFjn23m"
      },
      "source": [
        "* 클래스 생성"
      ]
    },
    {
      "cell_type": "code",
      "metadata": {
        "id": "9X7zV8mln23m"
      },
      "source": [
        "class Student() :\n",
        "  def __init__(self, name, subject) :\n",
        "    self.name = name\n",
        "    self.subject = subject\n",
        "    self.level = 0\n",
        "\n",
        "  def introduce(self) :\n",
        "    print(f'반갑습니다! {self.subject} 수업을 듣는 {self.name} 입니다.')"
      ],
      "execution_count": null,
      "outputs": []
    },
    {
      "cell_type": "markdown",
      "metadata": {
        "id": "ESSI1NKon23m"
      },
      "source": [
        "* 인스턴스 생성"
      ]
    },
    {
      "cell_type": "code",
      "metadata": {
        "id": "zYkKsuupn23m",
        "colab": {
          "base_uri": "https://localhost:8080/"
        },
        "outputId": "95dd4a96-b6bf-4aeb-9f84-89640d3f2233"
      },
      "source": [
        "me.name, me.subject"
      ],
      "execution_count": null,
      "outputs": [
        {
          "output_type": "execute_result",
          "data": {
            "text/plain": [
              "('윤태우', '딥러닝프레임워크')"
            ]
          },
          "metadata": {},
          "execution_count": 17
        }
      ]
    },
    {
      "cell_type": "markdown",
      "metadata": {
        "id": "jKNKPdlon23m"
      },
      "source": [
        "* `introduct()` 메서드 실행"
      ]
    },
    {
      "cell_type": "code",
      "source": [
        "me.introduce()"
      ],
      "metadata": {
        "id": "aR_cJ1LTnpHk",
        "colab": {
          "base_uri": "https://localhost:8080/"
        },
        "outputId": "dda07c6c-6599-49de-b627-cef2afe444d1"
      },
      "execution_count": null,
      "outputs": [
        {
          "output_type": "stream",
          "name": "stdout",
          "text": [
            "반갑습니다! 딥러닝프레임워크 수업을 듣는 윤태우 입니다.\n"
          ]
        }
      ]
    },
    {
      "cell_type": "markdown",
      "source": [
        "#### **또다른 인스턴스 생성**\n",
        "\n",
        "앞서 클래스 자체는 틀이고 인스턴스는 그 틀에서 찍어낸 함수와 같다 했습니다. `me`라는 인스턴스 말고 `you`라는 인스턴스를 생성해 봅시다. \n",
        "\n",
        "* 인스턴스 생성\n",
        "\n",
        "```\n",
        "you = Student(\"김학생\", \"수반\")\n",
        "\n",
        "```"
      ],
      "metadata": {
        "id": "b-Sq8YL-s8Oy"
      }
    },
    {
      "cell_type": "code",
      "source": [
        "you = Student(\"김학생\", \"수반\")"
      ],
      "metadata": {
        "id": "-lnmBLFRbFbl"
      },
      "execution_count": null,
      "outputs": []
    },
    {
      "cell_type": "markdown",
      "source": [
        "* introduce() 메서드 실행\n",
        "\n",
        "```\n",
        "you.introuduce()\n",
        "```"
      ],
      "metadata": {
        "id": "2q47vsMfvTYM"
      }
    },
    {
      "cell_type": "code",
      "source": [
        "you.introduce()"
      ],
      "metadata": {
        "id": "XogKQrBHvQ_-",
        "colab": {
          "base_uri": "https://localhost:8080/"
        },
        "outputId": "5f6ee90e-a3db-47dc-fecd-1d5245ce0b69"
      },
      "execution_count": null,
      "outputs": [
        {
          "output_type": "stream",
          "name": "stdout",
          "text": [
            "반갑습니다! 수반 수업을 듣는 김학생 입니다.\n"
          ]
        }
      ]
    },
    {
      "cell_type": "markdown",
      "source": [
        "#### **메서드에 입력변수 추가하기**\n",
        "\n",
        "이번에는 클래스에 레벨을 올리는 `levelup` 메서드를 추가해봅시다. 이 메서드에는 레벨을 얼만큼 올릴지를 인풋으로 받을 겁니다. \n",
        "\n",
        "```\n",
        "# 클래스 생성\n",
        "class Student():\n",
        "    def __init__(self, name, subject):\n",
        "      self.name = name\n",
        "      self.subject = subject\n",
        "      self.level = 0\n",
        "\n",
        "    def introduce(self):\n",
        "      print(f\"안녕하세요. {self.subject} 수업을 듣는 {self.name} 입니다.\")\n",
        "\n",
        "    def levelup(self, l)\n",
        "      level_before = self.level\n",
        "      self.level = self.level+l\n",
        "      print(f\"{level_before}에서 {self.level}로 레벨업 했습니다.\")\n",
        "\n",
        "# 인스턴스 생성\n",
        "me = Student(\"김모모\", \"기초반\")\n",
        "\n",
        "# 메서드 실행\n",
        "me.introduce()\n",
        "\n",
        "```"
      ],
      "metadata": {
        "id": "J1CXlJND_9tJ"
      }
    },
    {
      "cell_type": "markdown",
      "metadata": {
        "id": "CsYlr8M-A9Sr"
      },
      "source": [
        "* 클래스 생성"
      ]
    },
    {
      "cell_type": "code",
      "metadata": {
        "id": "6L8J9AwLA9Ss"
      },
      "source": [
        "class Student() :\n",
        "  def __init__(self, name, subject) :\n",
        "    self.name = name\n",
        "    self.subject = subject\n",
        "    self.level = 0\n",
        "\n",
        "  def introduce(self) :\n",
        "    print(f'반갑습니다! {self.subject} 수업을 듣는 {self.name} 입니다.')\n",
        "\n",
        "  def levelup(self, l) :\n",
        "    self.level += l\n",
        "    print(f'레벨이 {l}만큼 올라 {self.level}이 되었습니다.')"
      ],
      "execution_count": null,
      "outputs": []
    },
    {
      "cell_type": "markdown",
      "metadata": {
        "id": "5NI7YvkWA9Ss"
      },
      "source": [
        "* 인스턴스 생성"
      ]
    },
    {
      "cell_type": "code",
      "metadata": {
        "id": "KLPvCX4YA9Ss"
      },
      "source": [
        "me = Student('윤태우', '딥러닝 프레임워크')"
      ],
      "execution_count": null,
      "outputs": []
    },
    {
      "cell_type": "markdown",
      "source": [
        ""
      ],
      "metadata": {
        "id": "gnxh-DCEI5UV"
      }
    },
    {
      "cell_type": "markdown",
      "metadata": {
        "id": "areIEkhtA9Ss"
      },
      "source": [
        "* `levelup()` 메서드 실행\n",
        "\n",
        "`levelup` 메서드는 `level_step` 이라는 변수를 필요로 합니다. 따라서 몇레벨을 업할 것인지 적어줍니다."
      ]
    },
    {
      "cell_type": "code",
      "source": [
        "me.levelup(6)"
      ],
      "metadata": {
        "id": "eFB8RWhTA9Ss",
        "colab": {
          "base_uri": "https://localhost:8080/"
        },
        "outputId": "e00edd20-ff40-4f4b-c482-738e90620fe0"
      },
      "execution_count": null,
      "outputs": [
        {
          "output_type": "stream",
          "name": "stdout",
          "text": [
            "레벨이 6만큼 올라 6이 되었습니다.\n"
          ]
        }
      ]
    },
    {
      "cell_type": "markdown",
      "source": [
        "* `self.level` 값 확인\n",
        "\n",
        "level 초기 값을 0으로 설정했습니다. levelup 메서드를 이용하여 level 이라는 속성값을 변경하였으니 이를 확인해 봅시다."
      ],
      "metadata": {
        "id": "Wo9d9vi6EIP9"
      }
    },
    {
      "cell_type": "code",
      "source": [
        "me.level"
      ],
      "metadata": {
        "id": "VdIrwqXNvllc",
        "colab": {
          "base_uri": "https://localhost:8080/"
        },
        "outputId": "c5874434-ad79-446b-aab8-a5bd104b7460"
      },
      "execution_count": null,
      "outputs": [
        {
          "output_type": "execute_result",
          "data": {
            "text/plain": [
              "6"
            ]
          },
          "metadata": {},
          "execution_count": 26
        }
      ]
    },
    {
      "cell_type": "markdown",
      "source": [
        "**문제풀이**"
      ],
      "metadata": {
        "id": "vFcEYoFntKPS"
      }
    },
    {
      "cell_type": "code",
      "source": [
        "import random\n",
        "\n",
        "class 인생게임() :\n",
        "  def __init__(self, nickname) :\n",
        "    self.nickname = nickname\n",
        "    self.money = 100000\n",
        "    self.age = 20\n",
        "    self.skill = {'요리' : 0, '청소':0, '수학':1}\n",
        "\n",
        " # 로또 뽑고 개당 돈 -2000\n",
        "  def lotto(self, a, n) :\n",
        "    lucky = random.randint(1,20)\n",
        "    self.money -= 2000 * n\n",
        "    if a == lucky :\n",
        "      self.money += 1000000\n",
        "      print(f'복권에 당첨되어 백만원을 받았습니다! 현재 잔고 : {self.money}')\n",
        "    else : print(f'꽝입니다. 현재 잔고 : {self.money}')\n",
        "\n",
        "  #수학학원 가서 공부하면 레벨 업 \n",
        "  def study_math(self) :\n",
        "    self.skill['수학'] += 1\n",
        "    print(f\"수학 공부를 하여 수학 실력이 +1 늘었습니다! 현재 수학 실력 : {self.skill['수학']}\") \n",
        " \n",
        "  #알바해서 돈 +\n",
        "  def parttime(self) :\n",
        "    self.money += 50000\n",
        "    print(f'열심히 알바해서 돈을 벌었습니다! 현재 잔고 : {self.money}')\n",
        "  \n",
        "  #스킬 등록\n",
        "  def newskill(self) :\n",
        "    a = input(' 운동을 하시겠습니까? : ')\n",
        "    ph = {'체력':1}\n",
        "    if '네' in a :\n",
        "      self.skill = dict(list(self.skill.items()) + list(ph.items()))\n",
        "      print(f'꾸준히 운동을 하면 건강이 좋아집니다. 체력이 생성 되었습니다. {self.skill}')\n",
        "  \n",
        "  def buy_some(self, n) :\n",
        "    self.money -= 1000*n\n",
        "    print(f'물품을 구매하여 잔고가 {self.money}원 입니다.')"
      ],
      "metadata": {
        "id": "joCys7dPspH_"
      },
      "execution_count": null,
      "outputs": []
    },
    {
      "cell_type": "code",
      "source": [
        "b = 인생게임('nick')"
      ],
      "metadata": {
        "id": "SK81we1_9sl3"
      },
      "execution_count": null,
      "outputs": []
    },
    {
      "cell_type": "code",
      "source": [
        "call_game = input('인생게임을 실행 하시겠습니까? : ')\n",
        "if '네' in call_game :\n",
        "  nick = input('닉네임을 입력하세요 : ')\n",
        "  b = 인생게임(nick)\n",
        "  lifegame = ['운동하기', '알바가기', '수학학원가기', '편의점가기'] \n",
        "  day_time = 0\n",
        "  print(lifegame)\n",
        "  \n",
        "  print(f'아침이 밝았습니다. {nick}님')\n",
        "  while True :\n",
        "    morning = input('무엇을 하시겠습니까? : ')\n",
        "    #운동하면\n",
        "    if morning in lifegame[0] :\n",
        "      b.newskill()\n",
        "      day_time += 1\n",
        "      \n",
        "    #알바가면\n",
        "    elif morning in lifegame[1] :\n",
        "      b.parttime()\n",
        "      day_time += 1\n",
        "      \n",
        "    #수학학원가면\n",
        "    elif morning in lifegame[2] :\n",
        "      b.study_math\n",
        "      day_time += 1\n",
        "      \n",
        "    #편의점가면\n",
        "    elif morning in lifegame[3] :\n",
        "      print(f'|음식|복권|생필품|그냥 돌아간다|')\n",
        "      choice_1 = input('무엇을 구매하시겠습니까? : ')\n",
        "      choice_2 = int(input('몇개를 구매하시겠습니까?(숫자만 입력하세요) : '))\n",
        "      if '음식' in choice_1 :\n",
        "        b.buy_some(choice_2)\n",
        "      elif '복권' in choice_1 :\n",
        "        choice_3 = input('복권 번호 1~20 사이의 숫자중 하나를 입력해주세요')\n",
        "        b.lotto(choice_3*choice_2, choice_2)\n",
        "      elif '생필품' in choice_1 :\n",
        "        b.buy_some(choice_2)\n",
        "        day_time += 1\n",
        "      else :\n",
        "        print('돌아 갑니다.')\n",
        "        continue    \n",
        "    if day_time == 4 :    \n",
        "        print('밤이 되었습니다. 오늘 하루 잘 보내셨나요?')\n",
        "        break\n",
        "      \n",
        "else :  print('게임을 종료합니다')"
      ],
      "metadata": {
        "id": "zUkJ55qtvNKu"
      },
      "execution_count": null,
      "outputs": []
    },
    {
      "cell_type": "code",
      "source": [
        "\n"
      ],
      "metadata": {
        "id": "pyoWnzVU4Fja"
      },
      "execution_count": null,
      "outputs": []
    }
  ]
}
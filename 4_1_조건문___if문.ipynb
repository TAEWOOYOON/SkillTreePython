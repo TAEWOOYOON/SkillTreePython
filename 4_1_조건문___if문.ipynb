{
  "nbformat": 4,
  "nbformat_minor": 0,
  "metadata": {
    "colab": {
      "name": "4-1. 조건문 _ if문.ipynb",
      "provenance": [],
      "collapsed_sections": [],
      "toc_visible": true,
      "include_colab_link": true
    },
    "kernelspec": {
      "name": "python3",
      "display_name": "Python 3"
    },
    "language_info": {
      "name": "python"
    }
  },
  "cells": [
    {
      "cell_type": "markdown",
      "metadata": {
        "id": "view-in-github",
        "colab_type": "text"
      },
      "source": [
        "<a href=\"https://colab.research.google.com/github/TAEWOOYOON/SkillTreePython/blob/main/4_1_%EC%A1%B0%EA%B1%B4%EB%AC%B8___if%EB%AC%B8.ipynb\" target=\"_parent\"><img src=\"https://colab.research.google.com/assets/colab-badge.svg\" alt=\"Open In Colab\"/></a>"
      ]
    },
    {
      "cell_type": "markdown",
      "source": [
        "# 4-1. 조건문 : if문\n",
        "---\n",
        "* 날짜: 2022.3.31\n",
        "* 이름: 윤태우"
      ],
      "metadata": {
        "id": "kB5IciXEm6o4"
      }
    },
    {
      "cell_type": "markdown",
      "source": [
        "## 개념정리\n",
        "---\n",
        "\n",
        "\n",
        "어떤 특정한 조건에서만 코드가 작동되게 하려면 어떻게 할까요? 파이썬의 경우에는 `if, elif, else` 를 이용하여 코드를 제어합니다. n가지 조건이 나열되어 있을 때 아래와 같이 `if, elif, else`를 배분합니다.\n",
        "\n",
        "\n",
        "```\n",
        "if 조건1:\n",
        "  조건1 만족시 작동\n",
        "elif 조건2:\n",
        "  조건2 만족시 작동\n",
        "...\n",
        "elif 조건n-1:\n",
        "  조건n-1 만족시 작동\n",
        "else:\n",
        "  조건 n 만족시 작동\n",
        "```"
      ],
      "metadata": {
        "id": "4iN8NFzHRJ2D"
      }
    },
    {
      "cell_type": "markdown",
      "source": [
        "### **(1) 기본 사용**\n",
        "\n",
        "간단한 if 문을 작성해 봅시다. if문 하나만으로도 코드를 작성할 수 있습니다. \n",
        "\n",
        "```\n",
        "a = 2\n",
        "\n",
        "if a==2: # a가 2라면 ,\n",
        "  print(\"if문의 영향을 받는 출력\") # 이 코드를 실행\n",
        "```"
      ],
      "metadata": {
        "id": "MAM8MDnfw68b"
      }
    },
    {
      "cell_type": "code",
      "source": [
        "a = 2\n",
        "\n",
        "if a==2:\n",
        "  print(\"if문의 영향을 받는 출력\")"
      ],
      "metadata": {
        "id": "qzaIeO6tSQsb",
        "colab": {
          "base_uri": "https://localhost:8080/"
        },
        "outputId": "935fddb2-e93f-48f2-9ca9-6c19b2ec98c6"
      },
      "execution_count": null,
      "outputs": [
        {
          "output_type": "stream",
          "name": "stdout",
          "text": [
            "if문의 영향을 받는 출력\n"
          ]
        }
      ]
    },
    {
      "cell_type": "markdown",
      "source": [
        "#### **들여쓰기**\n",
        "\n",
        "if 문 아래의 `print` 코드는 몇칸을 뛴 후 작성한 것을 볼 수 있습니다. 이를 들여쓰기라고 합니다. 파이썬에서 들여쓰기 한 코드는 들여쓰기를 하기 전 코드의 영향력 아래에 있음을 의미합니다.\n",
        "\n",
        "따라서 위코드에서  `print(\"if문의 영향을 받는 출력\")` 이 부분은 if문의 영향을 받기 때문에 `a==1`일 때만 코드가 실행됩니다.\n",
        "\n",
        "만약 if문의 영향을 끝내고 싶다면 들여쓰기를 하지 않고 코드를 작성하면 됩니다.\n",
        "\n",
        "a 가 2가 아니지만 `print(\"if문의 영향을 받지 않는 출력\")` 줄은 if문의 영향을 받지 않기 때문에 a 값과 상관없이 출력이 됩니다.\n",
        "\n",
        "```\n",
        "a = 0\n",
        "\n",
        "if a==2: # a가 2라면 ,\n",
        "  print(\"if문의 영향을 받는 출력\") # 이 코드를 실행\n",
        "print(\"if문의 영향을 받지 않는 출력\") # 이 코드는 항상 실행됨\n",
        "\n",
        "```"
      ],
      "metadata": {
        "id": "iiBldnc8SdV6"
      }
    },
    {
      "cell_type": "code",
      "source": [
        "a = 0\n",
        "\n",
        "if a==2:\n",
        "  print(\"if문의 영향을 받는 출력\")\n",
        "print(\"if문의 영향을 받지 않는 출력\")"
      ],
      "metadata": {
        "id": "y3FK5KXTSVLF",
        "colab": {
          "base_uri": "https://localhost:8080/"
        },
        "outputId": "0d39bafe-46f2-4884-9e49-f2e524e0fba4"
      },
      "execution_count": null,
      "outputs": [
        {
          "output_type": "stream",
          "name": "stdout",
          "text": [
            "if문의 영향을 받지 않는 출력\n"
          ]
        }
      ]
    },
    {
      "cell_type": "markdown",
      "source": [
        "#### **`elif`**\n",
        "\n",
        "\n",
        "만약 조건을 더 추가하고 싶다면 `elif`를 사용합니다. 이제 조건은 더 세분화 할 수 있습니다.\n",
        "\n",
        "```\n",
        "a= 3\n",
        " \n",
        "if a ==2: # 첫번째 조건을 만족하면\n",
        "  print(\"첫번째 조건을 만족합니다.\") # 이 코드를 실행\n",
        "elif a==3: # 첫번째 조건이 아니라 두번째 조건을 만족하면\n",
        "  print(\"두번째 조건을 만족합니다.\") # 이 조건을 실행\n",
        "```\n"
      ],
      "metadata": {
        "id": "46u1an5GXDc3"
      }
    },
    {
      "cell_type": "code",
      "source": [
        "a= 3\n",
        "\n",
        "if a ==2:\n",
        "  print(\"첫번째 조건을 만족합니다.\") \n",
        "elif a==3:\n",
        "  print(\"두번째 조건을 만족합니다.\")"
      ],
      "metadata": {
        "id": "gPQGwmiRVXyL",
        "colab": {
          "base_uri": "https://localhost:8080/"
        },
        "outputId": "5361b44e-5df2-440f-f85d-f6c847c48d31"
      },
      "execution_count": null,
      "outputs": [
        {
          "output_type": "stream",
          "name": "stdout",
          "text": [
            "두번째 조건을 만족합니다.\n"
          ]
        }
      ]
    },
    {
      "cell_type": "markdown",
      "source": [
        "elif는 첫번째 if가 맞으면 무시됨.\n",
        "\n",
        "if a ==2\n",
        "\n",
        "if a%2 == 0\n",
        "\n",
        "이 경우 둘 다 시행.\n"
      ],
      "metadata": {
        "id": "e2iEtLysEgH9"
      }
    },
    {
      "cell_type": "markdown",
      "source": [
        "한번 더 조건을 더 추가 하고 싶나요? 마찬가지로 `elif`를 사용합니다. \n",
        "\n",
        "```\n",
        "a= 4\n",
        "\n",
        "if a ==2: # 첫번째 조건을 만족하면 \n",
        "  print(\"첫번째 조건을 만족합니다.\") # 이 코드를 실행\n",
        "elif a==3: # 첫번재 조건이 아니라 두번째 조건을 만족하면\n",
        "  print(\"두번째 조건을 만족합니다.\") # 이 코드를 실행\n",
        "elif a==4: # 첫번째, 두번째 조건이 아니라 세번째 조건을 만족하면\n",
        "  print(\"세번째 조건을 만족합니다.\") # 이 코드를 실행\n",
        "```\n"
      ],
      "metadata": {
        "id": "US4qWBR3ZYsk"
      }
    },
    {
      "cell_type": "code",
      "source": [
        "a= 4\n",
        "\n",
        "if a ==2:\n",
        "  print(\"첫번째 조건을 만족합니다.\")\n",
        "elif a==3: \n",
        "  print(\"두번째 조건을 만족합니다.\") \n",
        "elif a==4:\n",
        "  print(\"세번째 조건을 만족합니다.\")"
      ],
      "metadata": {
        "id": "iqKBm-oZZad_",
        "colab": {
          "base_uri": "https://localhost:8080/"
        },
        "outputId": "79ed925e-5eb2-4312-c696-8948cff4657d"
      },
      "execution_count": null,
      "outputs": [
        {
          "output_type": "stream",
          "name": "stdout",
          "text": [
            "세번째 조건을 만족합니다.\n"
          ]
        }
      ]
    },
    {
      "cell_type": "markdown",
      "source": [
        "#### **`else`**\n",
        "\n",
        "정수는 무한이 많습니다. 2도 아니고, 3도 아니고, 4도 아닌 어느 조건에도 해당하지 않으면 `else`가 실행됩니다.\n",
        "\n",
        "```\n",
        "a= 100\n",
        "\n",
        "if a ==2: # 첫번째 조건을 만족하면 ,\n",
        "  print(\"첫번째 조건을 만족합니다.\") # 이 코드를 실행\n",
        "elif a==3: # 첫번재 조건이 아니라 두번째 조건을 만족하면,\n",
        "  print(\"두번째 조건을 만족합니다.\") # 이 코드를 실행\n",
        "elif a==4: # 첫번째, 두번째 조건이 아니라 세번째 조건을 만족하면,\n",
        "  print(\"세번째 조건을 만족합니다.\") # 이 코드를 실행\n",
        "else: # 어느 조건에도 해당하지 않으면,\n",
        "  print(\"어느 조건에도 해당하지 않습니다.\") # 이 코드를 실행\n",
        "```\n"
      ],
      "metadata": {
        "id": "LwqyhnqYZqd6"
      }
    },
    {
      "cell_type": "code",
      "source": [
        "a= 100\n",
        "\n",
        "if a ==2:\n",
        "  print(\"첫번째 조건을 만족합니다.\")\n",
        "elif a==3: \n",
        "  print(\"두번째 조건을 만족합니다.\") \n",
        "elif a==4:\n",
        "  print(\"세번째 조건을 만족합니다.\")\n",
        "else:\n",
        "  print(\"그 외 경우\")"
      ],
      "metadata": {
        "id": "X6WumNNKZcwh",
        "colab": {
          "base_uri": "https://localhost:8080/"
        },
        "outputId": "c438eacb-0119-414e-e304-3c11610bb1bd"
      },
      "execution_count": null,
      "outputs": [
        {
          "output_type": "stream",
          "name": "stdout",
          "text": [
            "그 외 경우\n"
          ]
        }
      ]
    },
    {
      "cell_type": "markdown",
      "source": [
        "\n",
        "### **(2) 여러가지 조건문**\n",
        "\n"
      ],
      "metadata": {
        "id": "l5Mhn4qKZ83M"
      }
    },
    {
      "cell_type": "markdown",
      "source": [
        "#### **두개 이상의 조건**\n",
        "\n",
        "여기서 말하는 두개 이상의 조건은 한 if문에 `and`나 `or`로 연결된 다중 조건을 말합니다. 3의 배수를 생각해 봅시다. 3의 배수는 3으로 나누어 떨어집니다. 또한 3의 배수는 3부터 시작합니다. 따라서 이 두가지 조건을 같이 넣어 봅시다.\n",
        "\n",
        "```\n",
        "a = 12\n",
        "\n",
        "if a>=3 and a%3==0: # a가 3의 배수이면\n",
        "  print(f\"{a}는 3의 배수입니다\") # 이 코드를 실행\n",
        "```\n",
        "\n",
        "코드에서 보듯이 두가지 조건을 연결할 때는 `and` 를 사용합니다. 둘 중 어느 하나만이 아니라 두가지 조건을 모두 만족해야 if문이 실행됩니다."
      ],
      "metadata": {
        "id": "6eSFgbhWaJdw"
      }
    },
    {
      "cell_type": "code",
      "source": [
        "a = 120\n",
        "\n",
        "if (a>=3) or (a%3==0):\n",
        "  print(f\"{a}는 3의 배수입니다\")"
      ],
      "metadata": {
        "id": "qXQmWJ6aZ0Sx",
        "colab": {
          "base_uri": "https://localhost:8080/"
        },
        "outputId": "d248a3de-201d-4d57-ac6b-6fabb7af8c70"
      },
      "execution_count": null,
      "outputs": [
        {
          "output_type": "stream",
          "name": "stdout",
          "text": [
            "120는 3의 배수입니다\n"
          ]
        }
      ]
    },
    {
      "cell_type": "markdown",
      "source": [
        "#### **이중 if 문**\n",
        "\n",
        "\n",
        "if문 내에 if 문이 들어가 있을 때를 얘기합니다. 이중 if문뿐 아니라 삼중, 사중, 그 이상도 가능합니다. (실제로 잘 사용되지는 않습니다.)\n",
        "\n",
        "```\n",
        "a = 12\n",
        "\n",
        "if a<100: # a가 100보다 작고, \n",
        "  if a%2==0: # a가 2로 나누어 떨어지면,\n",
        "    print(\"짝수입니다.\") # 이 코드를 실행\n",
        "else:  # a가 100보다 크면\n",
        "  print(\"입력숫자초과\") # 이 코드를 실행\n",
        "```"
      ],
      "metadata": {
        "id": "-sGSZzeGaSTo"
      }
    },
    {
      "cell_type": "code",
      "source": [
        "a = 12\n",
        "\n",
        "if a<100 :        #True(12가 100보다 작은것은 참)\n",
        "  print(\"100보다 작습니다. \")\n",
        "  if a%2==0 :\n",
        "    print(\"짝수\")\n",
        "else:\n",
        "  print(\"100 이상\")"
      ],
      "metadata": {
        "id": "zXboSnyHbHab",
        "colab": {
          "base_uri": "https://localhost:8080/"
        },
        "outputId": "56a518fe-d6df-42aa-e6bf-147ecd704e06"
      },
      "execution_count": null,
      "outputs": [
        {
          "output_type": "stream",
          "name": "stdout",
          "text": [
            "100보다 작습니다. \n",
            "짝수\n"
          ]
        }
      ]
    },
    {
      "cell_type": "markdown",
      "source": [
        "### **(3) `if True:`/ `if False:`** "
      ],
      "metadata": {
        "id": "rKbgEKwJbINj"
      }
    },
    {
      "cell_type": "markdown",
      "source": [
        "if문의 조건으로 들어간 `<`, `==` 등의 기호는 산술연산자로서 우리는 이미 앞에서 산술연산자에 대해서 배웠습니다. \n",
        "\n",
        "산술연산자의 결과로 `True` 혹은 `False` 라는 `bool` 값이 나오게 되기 때문에 위에서 우리가 작성한 if문 줄은 `if True:` 혹은 `if False`와 동일합니다.\n",
        "\n",
        "이 말은 `if True` 일 때는 그 아래 코드가 실행이 되고 `if False` 일 때는 그 아래 코드가 실행 되지 않음을 의미합니다.\n",
        "\n",
        "```\n",
        "if True:\n",
        "  print(\"무조건 실행이 됩니다.\")\n",
        "\n",
        "if False:\n",
        "  print(\"무조건 실행이 되지 않습니다.\")\n",
        "```\n",
        "\n"
      ],
      "metadata": {
        "id": "40tGdKqla0D3"
      }
    },
    {
      "cell_type": "code",
      "source": [
        "if True:\n",
        "  print(\"무조건 실행 된다.\")\n",
        "\n",
        "if False:\n",
        "  print(\"무조건 실행 안된다.\")"
      ],
      "metadata": {
        "id": "2b2Zcj5FcI2k",
        "colab": {
          "base_uri": "https://localhost:8080/"
        },
        "outputId": "8ca9d2db-da9b-46b6-f9ca-d04e2366d7b5"
      },
      "execution_count": null,
      "outputs": [
        {
          "output_type": "stream",
          "name": "stdout",
          "text": [
            "무조건 실행 된다.\n"
          ]
        }
      ]
    },
    {
      "cell_type": "markdown",
      "source": [
        "\n",
        "따라서 if문에는 bool값을 모두 조건문으로 사용할 수 있습니다.  우리는 앞서 `bool` 값을 반환하는 또 다른 연산자들을 배워 봤습니다. 그 중 `is`, `is not`을 이용해 코드를 작성해 보겠습니다.\n",
        "\n",
        "\n",
        "```\n",
        "a = 10\n",
        "b = 10.0\n",
        "\n",
        "if a is b:\n",
        "  print(\"a와 b는 동일\")\n",
        "```"
      ],
      "metadata": {
        "id": "lCOowsEGcI7u"
      }
    },
    {
      "cell_type": "code",
      "source": [
        "a = 10\n",
        "b = 10.0\n",
        "\n",
        "if a is not b :\n",
        "  print(\"a와 b는 같다\")"
      ],
      "metadata": {
        "id": "Uzczw78BfTsH",
        "colab": {
          "base_uri": "https://localhost:8080/"
        },
        "outputId": "8d7dda3d-3dd8-4ad8-bc8d-1c33e8754224"
      },
      "execution_count": null,
      "outputs": [
        {
          "output_type": "stream",
          "name": "stdout",
          "text": [
            "a와 b는 같다\n"
          ]
        }
      ]
    },
    {
      "cell_type": "markdown",
      "source": [
        "출력이 되나요? `is`는 데이터 타입까지 같아야 `True`라고 하였습니다. 따라서 출력이 되지 않는게 맞습니다."
      ],
      "metadata": {
        "id": "m3uzd_GqfU8O"
      }
    },
    {
      "cell_type": "markdown",
      "source": [
        "#### **`in`, `not in`**\n",
        "\n",
        "우리가 `bool` 시간에 배우지 않은 연산자가 있습니다. 바로 `in`과 `not in` 입니다. 파이썬의 다양한 군집 자료형 안에 특정 요소가 들어있는지, 아닌지를 판별할 수 있는 유용한 연산자 입니다.\n",
        "\n",
        "* `a in s` : 군집 자료형 `s` 안에 요소 `a`가 존재\n",
        "* `a not in s` : 군집 자료형 `s` 안에 요소 'a`가 존재하지 않음.\n",
        "\n",
        "```\n",
        "s= [1,2,3]\n",
        "a = 2\n",
        "\n",
        "if a in s:\n",
        "  print(f\"{a} 가 {s}에 존재합니다.\")\n",
        "```\n",
        "**in, not in 자주쓰임.**"
      ],
      "metadata": {
        "id": "ypphueHcfmYy"
      }
    },
    {
      "cell_type": "code",
      "source": [
        "s= [1,2,3]\n",
        "a= 2\n",
        "\n",
        "if a in s:\n",
        "  print(f\"{a} 가 {s}에 존재합니다.\")"
      ],
      "metadata": {
        "id": "NBhc0GUUgTKF",
        "colab": {
          "base_uri": "https://localhost:8080/"
        },
        "outputId": "cf3f3837-5b9a-41a8-ac6c-8f5343fae1b0"
      },
      "execution_count": null,
      "outputs": [
        {
          "output_type": "stream",
          "name": "stdout",
          "text": [
            "2 가 [1, 2, 3]에 존재합니다.\n"
          ]
        }
      ]
    },
    {
      "cell_type": "markdown",
      "source": [
        "#### 'pass'\n",
        "\n",
        "조건문을 작성 했으나, 조건에 해당하는 코드를 작성할 필요가 없을때 사용합니다."
      ],
      "metadata": {
        "id": "3IN1kI40fpgm"
      }
    },
    {
      "cell_type": "code",
      "source": [
        "a = 100\n",
        "\n",
        "if a>100:\n",
        "  print(\"100보다 크다\")\n",
        "\n",
        "elif a<100:\n",
        "  pass\n",
        "\n",
        "else:\n",
        "  print(\"100이다\")"
      ],
      "metadata": {
        "colab": {
          "base_uri": "https://localhost:8080/"
        },
        "id": "8eR8HGaCf6-B",
        "outputId": "3f67c3e8-b5bc-4c78-f678-bae4e22af427"
      },
      "execution_count": null,
      "outputs": [
        {
          "output_type": "stream",
          "name": "stdout",
          "text": [
            "100이다\n"
          ]
        }
      ]
    },
    {
      "cell_type": "markdown",
      "source": [
        "\n",
        "### **(3) 삼항 연산자**\n",
        "\n",
        "조건문과 같은 기능을 하는 연산자입니다.  상황에 맞게 잘 사용한다면 코드 길이를 효과적으로 줄일 수 있습니다.\n",
        "\n",
        "\n",
        "```\n",
        "# 조건문\n",
        "if(1) 조건:(2)\n",
        "  조건이참일때코드(3)\n",
        "else:(4)\n",
        "  조건거짓일때코드(5)\n",
        "\n",
        "# 삼항 연산자\n",
        "조건참일때코드  if   조건   else   조건거짓일때코드\n",
        "       (3)      (1)   (2)    (4)       (5)\n",
        "```\n",
        "\n",
        "아래 코드를 삼항 연산자로 변환해 봅시다.\n",
        "\n",
        "```\n",
        "a = 2\n",
        "\n",
        "if a==2: \n",
        "  print(\"a는 2다.\") \n",
        "else:\n",
        "  print(\"a는 2가 아니다.\") \n",
        "```\n",
        "\n",
        "변환결과\n",
        "\n",
        "```\n",
        "a = 2\n",
        "print(\"a는 2다.\") if a==2 else print(\"a는 2가 아니다.\")\n",
        "```"
      ],
      "metadata": {
        "id": "MddSbtGuaYiD"
      }
    },
    {
      "cell_type": "code",
      "source": [
        "a = 2\n",
        "print('a는 2다.') if a==2 else print(\"a는 2가 아니다.\")"
      ],
      "metadata": {
        "id": "HVDwjdH2aMFj",
        "colab": {
          "base_uri": "https://localhost:8080/"
        },
        "outputId": "1a7a4ccf-9886-4dd7-ed9f-4aaf62db23ef"
      },
      "execution_count": null,
      "outputs": [
        {
          "output_type": "stream",
          "name": "stdout",
          "text": [
            "a는 2다.\n"
          ]
        }
      ]
    },
    {
      "cell_type": "markdown",
      "source": [
        "## 문제 풀이\n",
        "---\n",
        "\n"
      ],
      "metadata": {
        "id": "i0_nVSq-ahHr"
      }
    },
    {
      "cell_type": "markdown",
      "source": [
        "**예제 01**\n",
        "\n",
        "아래 코드의 실행결과를 예측하고 직접 실행해보세요\n",
        "\n",
        "```\n",
        "if True:\n",
        "    print(\"Hello World\")\n",
        "```"
      ],
      "metadata": {
        "id": "cxHw7Eqwah07"
      }
    },
    {
      "cell_type": "markdown",
      "source": [
        "Hello World 가 출력 될것이다."
      ],
      "metadata": {
        "id": "yfvesbnJhc-h"
      }
    },
    {
      "cell_type": "code",
      "source": [
        "if True :\n",
        "  print(\"Hello World\")"
      ],
      "metadata": {
        "id": "fIQIHPX7gi6D",
        "colab": {
          "base_uri": "https://localhost:8080/"
        },
        "outputId": "9dde9733-21c0-4d3c-8f45-bc3f8841aaf5"
      },
      "execution_count": null,
      "outputs": [
        {
          "output_type": "stream",
          "name": "stdout",
          "text": [
            "Hello World\n"
          ]
        }
      ]
    },
    {
      "cell_type": "markdown",
      "source": [
        "\n",
        "**예제 02**\n",
        "\n",
        "아래 코드의 실행결과를 예측하고 직접 실행해보세요\n",
        "\n",
        "```\n",
        "if False:\n",
        "    print(\"Hello World\")\n",
        "```\n"
      ],
      "metadata": {
        "id": "mbDRyjksgi9s"
      }
    },
    {
      "cell_type": "markdown",
      "source": [
        "아무것도 출력되지 않을 것이다."
      ],
      "metadata": {
        "id": "FtBroy2zhkWd"
      }
    },
    {
      "cell_type": "code",
      "source": [
        "if False:\n",
        "    print(\"Hello World\")"
      ],
      "metadata": {
        "id": "0cNRiYJKgjZw"
      },
      "execution_count": null,
      "outputs": []
    },
    {
      "cell_type": "markdown",
      "source": [
        "\n",
        "**예제 03**\n",
        "\n",
        "아래 코드의 실행결과를 예측하고 직접 실행해보세요\n",
        "```\n",
        "if True:\n",
        "    print(\"Hello World\")\n",
        "else\n",
        "    print(\"else\")\n",
        "```"
      ],
      "metadata": {
        "id": "QNTlcFQxgjdK"
      }
    },
    {
      "cell_type": "markdown",
      "source": [
        "True 시 무조건 출력이므로 Hello World가 출력 될것."
      ],
      "metadata": {
        "id": "QA9h2hghhtBE"
      }
    },
    {
      "cell_type": "markdown",
      "source": [
        ""
      ],
      "metadata": {
        "id": "ujb8-Gw-hqlN"
      }
    },
    {
      "cell_type": "code",
      "source": [
        "if True:\n",
        "    print(\"Hello World\")\n",
        "else:\n",
        "    print(\"else\")"
      ],
      "metadata": {
        "id": "37avWITVgmFO",
        "colab": {
          "base_uri": "https://localhost:8080/"
        },
        "outputId": "3c17d82a-55c2-4da6-94b2-c8c028bf311e"
      },
      "execution_count": null,
      "outputs": [
        {
          "output_type": "stream",
          "name": "stdout",
          "text": [
            "Hello World\n"
          ]
        }
      ]
    },
    {
      "cell_type": "markdown",
      "source": [
        "**예제 04**\n",
        "\n",
        "아래 코드의 실행결과를 예측하고 직접 실행해보세요\n",
        "\n",
        "```\n",
        "if False:\n",
        "    print(\"Hello World\")\n",
        "else\n",
        "    print(\"else\")\n",
        "```\n"
      ],
      "metadata": {
        "id": "1GB2dx6sgks-"
      }
    },
    {
      "cell_type": "markdown",
      "source": [
        "else가 출력될것이다. False는 무조건 출력 되지 않기 때문."
      ],
      "metadata": {
        "id": "9wtzf8sPiKQo"
      }
    },
    {
      "cell_type": "code",
      "source": [
        "if False:\n",
        "    print(\"Hello World\")\n",
        "else:\n",
        "    print(\"else\")"
      ],
      "metadata": {
        "id": "ay0sKGUjgkxo",
        "colab": {
          "base_uri": "https://localhost:8080/"
        },
        "outputId": "dbc2c838-45ba-4576-a7b3-6e9a093c8544"
      },
      "execution_count": null,
      "outputs": [
        {
          "output_type": "stream",
          "name": "stdout",
          "text": [
            "else\n"
          ]
        }
      ]
    },
    {
      "cell_type": "markdown",
      "source": [
        "**예제 05**\n",
        "\n",
        "아래 코드의 실행결과를 예측하고 직접 실행해보세요\n",
        "```\n",
        "if 4 < 3:\n",
        "    print(\"Hello World.\")\n",
        "else:\n",
        "    print(\"Hi, there.\")\n",
        "```"
      ],
      "metadata": {
        "id": "a7t3w6UMgmI1"
      }
    },
    {
      "cell_type": "markdown",
      "source": [
        "Hi, there이 출력 될 것이다. 4<3은 false 이므로 출력 X"
      ],
      "metadata": {
        "id": "tjuTuZAfibJE"
      }
    },
    {
      "cell_type": "code",
      "source": [
        "if 4 < 3:\n",
        "    print(\"Hello World.\")\n",
        "else:\n",
        "    print(\"Hi, there.\")"
      ],
      "metadata": {
        "id": "0knF53DogoMw",
        "colab": {
          "base_uri": "https://localhost:8080/"
        },
        "outputId": "37d427c3-0ed7-428d-acc1-33f7b3635796"
      },
      "execution_count": null,
      "outputs": [
        {
          "output_type": "stream",
          "name": "stdout",
          "text": [
            "Hi, there.\n"
          ]
        }
      ]
    },
    {
      "cell_type": "markdown",
      "source": [
        "\n",
        "**예제 06**\n",
        "\n",
        "아래 코드의 실행결과를 예측하고 직접 실행해보세요\n",
        "```\n",
        "if True :\n",
        "    print (\"1\")\n",
        "    print (\"2\")\n",
        "else :\n",
        "    print(\"3\")\n",
        "print(\"4\")\n",
        "```"
      ],
      "metadata": {
        "id": "bZKHjuuYgoSO"
      }
    },
    {
      "cell_type": "markdown",
      "source": [
        "1,2,4가 출력 될 것. True 이므로 1,2 값 무조건 출력, 마지막은 if문과 관계 없이 4가 나옴."
      ],
      "metadata": {
        "id": "3nxn2a91iqMn"
      }
    },
    {
      "cell_type": "code",
      "source": [
        "if True :\n",
        "    print (\"1\")\n",
        "    print (\"2\")\n",
        "else :\n",
        "    print(\"3\")\n",
        "print(\"4\")"
      ],
      "metadata": {
        "id": "FLBUCsIQgpsX",
        "colab": {
          "base_uri": "https://localhost:8080/"
        },
        "outputId": "e1a8e532-0e5b-40f5-c589-b0f2344877b8"
      },
      "execution_count": null,
      "outputs": [
        {
          "output_type": "stream",
          "name": "stdout",
          "text": [
            "1\n",
            "2\n",
            "4\n"
          ]
        }
      ]
    },
    {
      "cell_type": "markdown",
      "source": [
        "**예제 07**\n",
        "\n",
        "아래 코드의 실행결과를 예측하고 직접 실행해보세요\n",
        "```\n",
        "if True :\n",
        "    if False:\n",
        "        print(\"1\")\n",
        "        print(\"2\")\n",
        "    else:\n",
        "        print(\"3\")\n",
        "else :\n",
        "    print(\"4\")\n",
        "print(\"5\")\n",
        "\n",
        "```"
      ],
      "metadata": {
        "id": "hzyVRikUgpwD"
      }
    },
    {
      "cell_type": "markdown",
      "source": [
        "if True의 범위 안에서 if False 와  else가 있으므로 else가 True값이 된다.\n",
        "따라서 3이 출력되고, 그 밑에 else는 제일 위에 if True가 있으므로 무시.\n",
        "마지막 5는 if문과 관계 없이 출력.\n",
        "결국 3, 5 출력"
      ],
      "metadata": {
        "id": "DPBWmK2TjEAK"
      }
    },
    {
      "cell_type": "code",
      "source": [
        "if True :\n",
        "    if False:\n",
        "        print(\"1\")\n",
        "        print(\"2\")\n",
        "    else:\n",
        "        print(\"3\")\n",
        "else :\n",
        "    print(\"4\")\n",
        "print(\"5\")"
      ],
      "metadata": {
        "id": "LLG7boA8gqrI",
        "colab": {
          "base_uri": "https://localhost:8080/"
        },
        "outputId": "057fac55-524d-4ac8-d57a-0b99aa40b99a"
      },
      "execution_count": null,
      "outputs": [
        {
          "output_type": "stream",
          "name": "stdout",
          "text": [
            "3\n",
            "5\n"
          ]
        }
      ]
    },
    {
      "cell_type": "markdown",
      "source": [
        "**예제 08**\n",
        "\n",
        "입력된 문자열의 길이가 3보다 크면 \"TRUE!\"를 출력하고 그렇지 않으면 'FALSE!'이라는 문자열을 출력하는 코드를 작성하세요. 입력은 내장함수 `input()`를 사용하세요.\n"
      ],
      "metadata": {
        "id": "Gwu5n-oDgqyg"
      }
    },
    {
      "cell_type": "code",
      "source": [
        "if len(input(\"문자 입력 : \"))>3 :\n",
        "  print('TRUE!')\n",
        "\n",
        "else : \n",
        "  print('FALSE!')"
      ],
      "metadata": {
        "id": "ANsokcT6gtQz",
        "colab": {
          "base_uri": "https://localhost:8080/"
        },
        "outputId": "a9fe3a80-8697-47a4-bf92-5e5c6d1c60d4"
      },
      "execution_count": null,
      "outputs": [
        {
          "output_type": "stream",
          "name": "stdout",
          "text": [
            "문자 입력 : 나는바보\n",
            "TRUE!\n"
          ]
        }
      ]
    },
    {
      "cell_type": "markdown",
      "source": [
        "**예제 09**\n",
        "\n",
        "입력된 정수값이 짝수이거나 10보다 낮으면 \"target!\" 그렇지 않으면 \"pass\" 라는 문자열을 출력하는 코드를 작성하세요. 입력은 내장함수 `input()`를 사용하세요."
      ],
      "metadata": {
        "id": "9Du9uUgLgta3"
      }
    },
    {
      "cell_type": "code",
      "source": [
        "a = int(input(\"정수 입력 : \"))\n",
        "print(\"target!\") if a%2==0 or a<10 else print(\"pass\")"
      ],
      "metadata": {
        "id": "43fY7qzEgvHf",
        "colab": {
          "base_uri": "https://localhost:8080/"
        },
        "outputId": "6e129c88-c2f5-450f-9a8c-6dce774293e9"
      },
      "execution_count": null,
      "outputs": [
        {
          "output_type": "stream",
          "name": "stdout",
          "text": [
            "정수 입력 : 11\n",
            "pass\n"
          ]
        }
      ]
    },
    {
      "cell_type": "markdown",
      "source": [
        "**예제 10**\n",
        "\n",
        "\n",
        "0에서 100까지의 정수 `n`을 입력받습니다. 만약 범위에 해당하지 않는 정수를 입력하면 에러 메시지를 보내고 종료됩니다. 제대로 입력하였으면 정수 n에 10을 빼고 출력합니다. 만약 10을 뺀 값이 0보다 작으면 0을 출력하세요\n",
        "\n",
        "\n",
        "* 예시\n",
        "```\n",
        ">> n을 입력하세요: 50\n",
        "40\n",
        "```\n",
        "\n",
        "* 예시\n",
        "```\n",
        ">> n을 입력하세요: 5\n",
        "0\n",
        "```\n",
        "\n",
        "* 예시\n",
        "```\n",
        ">> n을 입력하세요: 200\n",
        "잘못된 숫자입니다.\n",
        "```\n"
      ],
      "metadata": {
        "id": "61JVxwMVgvMh"
      }
    },
    {
      "cell_type": "code",
      "source": [
        "n = int(input(\"정수를 입력하세요 : \"))\n",
        "if 0<=n<=100 :\n",
        "  if (n-10)>=0 :\n",
        "    print(n-10)\n",
        " \n",
        "  if (n-10)<0 :\n",
        "    print(0)\n",
        "\n",
        "else :\n",
        "  print(\"error, 시스템 종료\")"
      ],
      "metadata": {
        "id": "htKCPqm1l4jk",
        "colab": {
          "base_uri": "https://localhost:8080/"
        },
        "outputId": "42168c07-e914-4d94-98b6-7afaa3d7f9ab"
      },
      "execution_count": null,
      "outputs": [
        {
          "output_type": "stream",
          "name": "stdout",
          "text": [
            "정수를 입력하세요 : 11\n",
            "1\n"
          ]
        }
      ]
    },
    {
      "cell_type": "markdown",
      "source": [
        "**예제 11**\n",
        "\n",
        "사용자로부터 문자열을 입력받고 옵션에 따라 대문자 또는 소문자로 변경하는 함수를 작성하세요\n",
        "\n",
        "* 예시\n",
        "```\n",
        ">> change_str(\"aBc\")\n",
        "ABC\n",
        "```\n",
        "\n",
        "* 예시\n",
        "```\n",
        ">> change_str(\"aBc\", opt='up')\n",
        "ABC\n",
        "```\n",
        "\n",
        "* 예시\n",
        "```\n",
        ">> change_str(\"aBc\", opt='down')\n",
        "abc\n",
        "```"
      ],
      "metadata": {
        "id": "RKC26VgahIGt"
      }
    },
    {
      "cell_type": "code",
      "source": [
        "l = input(\"문자 입력 : \")\n",
        "opt = input('옵션 선택 : ')\n",
        "if 'up' in opt :\n",
        "  print(l.upper())\n",
        "\n",
        "elif 'down' in opt :\n",
        "  print(l.lower())"
      ],
      "metadata": {
        "colab": {
          "base_uri": "https://localhost:8080/"
        },
        "id": "6tAQxmIxtDEk",
        "outputId": "2dc78410-0ab8-4dce-9605-672588c64c2e"
      },
      "execution_count": null,
      "outputs": [
        {
          "output_type": "stream",
          "name": "stdout",
          "text": [
            "문자 입력 : aBc\n",
            "옵션 선택 : up\n",
            "ABC\n"
          ]
        }
      ]
    },
    {
      "cell_type": "markdown",
      "source": [
        "**예제 12**\n",
        "\n",
        "학점표를 보고 점수에 따른 학점을 출력하는 함수를 작성하세요\n",
        "\n",
        "|점수|학점|\n",
        "--|--\n",
        "70~100|A\n",
        "30~70 |B\n",
        "0~30 | C\n",
        "\n",
        "* 예시\n",
        "```\n",
        ">> cal_grade(50)\n",
        "학점은 B 입니다.\n",
        "```"
      ],
      "metadata": {
        "id": "bbUSm7Pm0ecC"
      }
    },
    {
      "cell_type": "code",
      "source": [
        "a = int(input(\"점수를 입력하세요 : \"))\n",
        "if 0<=a<30 :\n",
        "  print('학점은 C 입니다.')\n",
        "\n",
        "elif 30<=a<70 :\n",
        "  print('학점은 B 입니다.')\n",
        "\n",
        "elif 70<=a<=100 :\n",
        "  print('학점은 A 입니다.')"
      ],
      "metadata": {
        "id": "ptdi6nBj0iY9",
        "colab": {
          "base_uri": "https://localhost:8080/"
        },
        "outputId": "f066cf0b-30fe-4798-a211-5d53106640cb"
      },
      "execution_count": null,
      "outputs": [
        {
          "output_type": "stream",
          "name": "stdout",
          "text": [
            "점수를 입력하세요 : 50\n",
            "학점은 B 입니다.\n"
          ]
        }
      ]
    },
    {
      "cell_type": "markdown",
      "source": [
        "**예제 13**\n",
        "\n",
        "주민등록번호 뒷자리의 첫번째 번호를 통해 남여를 구분하세요(1,3 남/ 2,4 여) 만약 주민번호의 규격이 맞지 않으면 에러메시지를 출력하는 코드를 작성하세요. 인풋은 내장함수 `input()`로 받습니다.\n",
        "\n",
        "* 예시\n",
        "```\n",
        ">> 주민번호를 입력하세요: 101010-1010101\n",
        "남성입니다. \n",
        "```\n",
        "\n",
        "* 예시\n",
        "```\n",
        ">> 주민번호를 입력하세요: 101010-101\n",
        "주민번호가 올바르지 않습니다.\n",
        "```"
      ],
      "metadata": {
        "id": "hsVvXoNq0lw1"
      }
    },
    {
      "cell_type": "code",
      "source": [
        "a = input(\"주민번호를 입력하세요 : \")\n",
        "\n",
        "if len(a)<14 :\n",
        "  print('error')\n",
        "\n",
        "elif int(a[7])==1 or int(a[7])==3 :\n",
        "  print('남성입니다.')\n",
        "\n",
        "elif int(a[7])==2 or int(a[7])==4 :\n",
        "  print('여성입니다.')"
      ],
      "metadata": {
        "id": "-ZBStYHn0skR",
        "colab": {
          "base_uri": "https://localhost:8080/"
        },
        "outputId": "d6e67f12-6f72-404c-899c-99d96b4af497"
      },
      "execution_count": null,
      "outputs": [
        {
          "output_type": "stream",
          "name": "stdout",
          "text": [
            "주민번호를 입력하세요 : 950809-4756\n",
            "error\n"
          ]
        }
      ]
    },
    {
      "cell_type": "code",
      "source": [
        "a = input(\"주민번호를 입력하세요 : \")\n",
        "\n",
        "if len(a)<14 :\n",
        "  print('error')\n",
        "\n",
        "elif int(a[7])==1 or int(a[7])==3 :\n",
        "  print('남성입니다.')\n",
        "\n",
        "elif int(a[7])==2 or int(a[7])==4 :\n",
        "  print('여성입니다.')"
      ],
      "metadata": {
        "colab": {
          "base_uri": "https://localhost:8080/"
        },
        "id": "TJIBkVilxSRY",
        "outputId": "f7fd3ef5-2257-4876-fbb4-1b13502b8ac8"
      },
      "execution_count": null,
      "outputs": [
        {
          "output_type": "stream",
          "name": "stdout",
          "text": [
            "주민번호를 입력하세요 : 950809-1672183\n",
            "남성입니다.\n"
          ]
        }
      ]
    },
    {
      "cell_type": "markdown",
      "source": [
        "**예제 14**\n",
        "\n",
        "자판기 함수를 생성합니다. 조건은 아래와 같습니다.\n",
        "\n",
        "- 음료수 종류와 가격이 적힌 메뉴판을 출력합니다.(최소 3가지 이상의 음료 종류를 딕셔너리 형태로 저장하세요)\n",
        "- 음료수 종류를 입력받고 가격을 안내합니다.\n",
        "- 금액을 입력받습니다.\n",
        "- 금액이 충분하면 음료수와 거스름돈을 반환하는 메시지를 출력합니다.\n",
        "- 금액이 불충분하면 금액을 반환하는 메시지를 출력합니다.\n"
      ],
      "metadata": {
        "id": "-ya-B4m20tmB"
      }
    },
    {
      "cell_type": "code",
      "source": [
        "menu_1 = {'milk' : 1000, 'americano' : 1800, 'tea' : 2000}\n",
        "a = input(\"음료를 선택해주세요 : \")\n",
        "print(f'{a}의 가격은 {menu_1[a]}원 입니다.')\n",
        "b = input(\"계산 해주세요 : \")\n",
        "if int(b)>menu_1[a] :\n",
        "  print('음료와 거스름돈을 받아가세요')\n",
        "\n",
        "elif int(b) == menu_1[a] :\n",
        "  print('음료를 받아가세요')\n",
        "\n",
        "else :\n",
        "  print('결제 불가, 금액 반환')"
      ],
      "metadata": {
        "id": "dhiVxMpT0uxy",
        "colab": {
          "base_uri": "https://localhost:8080/"
        },
        "outputId": "36c2890b-2b45-419e-df07-a6ed89757c9b"
      },
      "execution_count": null,
      "outputs": [
        {
          "output_type": "stream",
          "name": "stdout",
          "text": [
            "음료를 선택해주세요 : americano\n",
            "americano의 가격은 1800원 입니다.\n",
            "계산 해주세요 : 1800\n",
            "음료를 받아가세요\n"
          ]
        }
      ]
    },
    {
      "cell_type": "markdown",
      "source": [
        "\n",
        "**예제 15**\n",
        "\n",
        "두 수를 비교하는 함수를 만듭니다.\n",
        "\n",
        "* 예시\n",
        "```\n",
        ">> comp_ab(1,2)\n",
        "1<2\n",
        "```\n",
        "\n",
        "* 예시\n",
        "```\n",
        ">> comp_ab(2,1)\n",
        "2>1\n",
        "```\n",
        "\n",
        "* 예시\n",
        "```\n",
        ">> comp_ab(1,1)\n",
        "1==1\n",
        "```\n"
      ],
      "metadata": {
        "id": "CH2QLyAB0u26"
      }
    },
    {
      "cell_type": "code",
      "source": [
        "a = input('')\n",
        "b = input('')\n",
        "if float(a) < float(b) :\n",
        "  print(f'{a} < {b}')\n",
        "  \n",
        "elif float(a) > float(b) :\n",
        "  print(f'{a} > {b}')\n",
        "\n",
        "elif float(a) == float(b) :\n",
        "  print(f'{a} == {b}')"
      ],
      "metadata": {
        "id": "rqclrJtM059c",
        "colab": {
          "base_uri": "https://localhost:8080/"
        },
        "outputId": "c72a545d-b39d-41b2-d565-88f09f07c497"
      },
      "execution_count": null,
      "outputs": [
        {
          "output_type": "stream",
          "name": "stdout",
          "text": [
            "1\n",
            "50\n",
            "1 < 50\n"
          ]
        }
      ]
    },
    {
      "cell_type": "markdown",
      "source": [
        "**예제 16**\n",
        "\n",
        "아래 두개의 조건중 하나라도 만족하는 숫자를 입력하면 \"target\", 그렇지 않으면 \"pass\"를 출력하는 함수를 작성하세요\n",
        "\n",
        "- 3의 배수이면서, 5의 배수가 아닐때\n",
        "- 10의 배수일 때\n",
        "\n",
        "```\n",
        ">> target_num(15)\n",
        "pass\n",
        "```\n",
        "\n",
        "```\n",
        ">> target_num(150)\n",
        "target\n",
        "```"
      ],
      "metadata": {
        "id": "5LebGsgu06CO"
      }
    },
    {
      "cell_type": "code",
      "source": [
        "n = input('숫자를 입력하세요 : ')\n",
        "\n",
        "if int(n)%3 == 0 and int(n)%5 != 0 :\n",
        "  print(\"target\")\n",
        "\n",
        "elif int(n)%10 == 0 :\n",
        "  print(\"target\")\n",
        "\n",
        "else :\n",
        "  print(\"pass\")"
      ],
      "metadata": {
        "id": "_j4vEmT70_rR",
        "colab": {
          "base_uri": "https://localhost:8080/"
        },
        "outputId": "03b7ea58-6531-41c8-ee02-8f149d7c1f27"
      },
      "execution_count": null,
      "outputs": [
        {
          "output_type": "stream",
          "name": "stdout",
          "text": [
            "숫자를 입력하세요 : 150\n",
            "target\n"
          ]
        }
      ]
    },
    {
      "cell_type": "markdown",
      "source": [
        "**예제 17**\n",
        "\n",
        "두개의 정수값을 받아서 몇사분면에 위치해 있는지, 혹은 x축, y축,  원점 위에 있는지 판단하는 함수를 작성하세요\n",
        "\n",
        "* 예시\n",
        "```\n",
        ">> which_plane(1,1)\n",
        "1사분면에 있습니다.\n",
        "```\n",
        "* 예시\n",
        "```\n",
        ">> which_plane(0,0)\n",
        "원점에 있습니다.\n",
        "```"
      ],
      "metadata": {
        "id": "_9ygEJmV0_wy"
      }
    },
    {
      "cell_type": "code",
      "source": [
        "x = int(input('정수 입력 : '))\n",
        "y = int(input('정수 입력 : '))\n",
        "if x > 0 and y > 0 :\n",
        "  print('1사분면에 있습니다.')\n",
        "\n",
        "elif x > 0 and y < 0 :\n",
        "  print('4사분면에 있습니다.')\n",
        "\n",
        "elif x < 0 and y > 0 :\n",
        "  print('2사분면에 있습니다.')\n",
        "\n",
        "elif x < 0 and y < 0 :\n",
        "  print('3사분면에 있습니다.')\n",
        "\n",
        "elif x == 0 and y == 0 :\n",
        "  print('원점에 있습니다.')\n",
        "\n",
        "elif x == 0 and y < 0 or y > 0 :\n",
        "  print('y축 위에 있습니다.')\n",
        "\n",
        "elif x > 0 or x < 0 and y == 0 :\n",
        "  print('x축 위에 있습니다.')"
      ],
      "metadata": {
        "id": "c6YweOOI1HQX",
        "colab": {
          "base_uri": "https://localhost:8080/"
        },
        "outputId": "f9943aa6-1b34-48be-b363-afec3c6837eb"
      },
      "execution_count": null,
      "outputs": [
        {
          "output_type": "stream",
          "name": "stdout",
          "text": [
            "정수 입력 : 1\n",
            "정수 입력 : 2\n",
            "1사분면에 있습니다.\n"
          ]
        }
      ]
    },
    {
      "cell_type": "markdown",
      "source": [
        "**예제 18**\n",
        "\n",
        "시(H)와 분(M)을 입력하면 1시간 30분뒤 시간을 알려주는 함수를 작성하세요\n",
        "\n",
        "* 예시\n",
        "```\n",
        ">> after_time(7,30)\n",
        "9:00\n",
        "```\n",
        "\n",
        "* 예시\n",
        "```\n",
        ">> after_time(11,50)\n",
        "13:20\n",
        "```\n",
        "\n",
        "* 예시\n",
        "```\n",
        ">> after_time(23,40)\n",
        "01:10\n",
        "```"
      ],
      "metadata": {
        "id": "urINDRs11IVx"
      }
    },
    {
      "cell_type": "code",
      "source": [
        "def after_time(h,m) :\n",
        "  if m >= 30 :\n",
        "    h+=2\n",
        "    m-=30\n",
        "  \n",
        "  else :\n",
        "    h+=1\n",
        "    m+=30\n",
        "\n",
        "  print(f'{h}:{m}')"
      ],
      "metadata": {
        "id": "lhOhiExm1Qlm"
      },
      "execution_count": null,
      "outputs": []
    },
    {
      "cell_type": "code",
      "source": [
        "after_time(10,20)"
      ],
      "metadata": {
        "colab": {
          "base_uri": "https://localhost:8080/"
        },
        "id": "T5P-U4iVFHBQ",
        "outputId": "b72efcb5-bb5a-4426-891b-76b75f9c743c"
      },
      "execution_count": null,
      "outputs": [
        {
          "output_type": "stream",
          "name": "stdout",
          "text": [
            "11:50\n"
          ]
        }
      ]
    },
    {
      "cell_type": "markdown",
      "source": [
        "**예제 19**\n",
        "\n",
        "0부터 100까지 숫자를 한국어로 변환하는 함수를 작성하세요\n",
        "\n",
        "* 예시\n",
        "```\n",
        ">> num_korean(100)\n",
        "백\n",
        "```\n",
        "\n",
        "* 예시\n",
        "```\n",
        ">> num_korean(84)\n",
        "팔십사\n",
        "```\n"
      ],
      "metadata": {
        "id": "J25zSIwn1SCp"
      }
    },
    {
      "cell_type": "code",
      "source": [
        "def num_korean(m) :\n",
        "  a = ['영', '일', '이', '삼', '사', '오', '육', '칠', '팔', '구', '십']\n",
        "  b = m//10\n",
        "  c = m%10\n",
        "  if m<=10 :\n",
        "    print(a[m]) \n",
        "  elif 100>m>20 :\n",
        "    print(f'{a[b]}십{a[c]}')\n",
        "  elif 10<m<20 :\n",
        "    print(f'십{a[c]}')\n",
        "  elif m==100 :\n",
        "    print('백')"
      ],
      "metadata": {
        "id": "uDhjzIWA1bYP"
      },
      "execution_count": 195,
      "outputs": []
    },
    {
      "cell_type": "code",
      "source": [
        "num_korean(84)"
      ],
      "metadata": {
        "colab": {
          "base_uri": "https://localhost:8080/"
        },
        "id": "3dyDJve4UjJU",
        "outputId": "934ca908-6e06-4204-9945-0916122578ab"
      },
      "execution_count": 197,
      "outputs": [
        {
          "output_type": "stream",
          "name": "stdout",
          "text": [
            "팔십사\n"
          ]
        }
      ]
    },
    {
      "cell_type": "markdown",
      "source": [
        "**예제 20**\n",
        "\n",
        "두참가자에게 투표를 한 문자열이 주어집니다. 1번과 2번중 더 높은 투표를 받은 사람이 번호를 출력하세요. 만약 투표수가 동일하면 \"draw\"를 출력합니다.\n",
        "\n",
        "* 예시\n",
        "```\n",
        ">> who_win(\"122211\")\n",
        "draw\n",
        "```\n",
        "\n",
        "* 예시\n",
        "```\n",
        ">> who_win(\"211222212\")\n",
        "2\n",
        "```"
      ],
      "metadata": {
        "id": "5r-j6QRK1ca0"
      }
    },
    {
      "cell_type": "code",
      "source": [
        "def who_win(*args) :\n",
        "  a = str(args).count('1')\n",
        "  b = str(args).count('2')\n",
        "  if a>b :\n",
        "    print('1')\n",
        "  elif a<b :\n",
        "    print('2')\n",
        "  elif a==b :\n",
        "    print('draw')"
      ],
      "metadata": {
        "id": "kXN8XBa91h3X"
      },
      "execution_count": 225,
      "outputs": []
    },
    {
      "cell_type": "code",
      "source": [
        "who_win(121112)"
      ],
      "metadata": {
        "colab": {
          "base_uri": "https://localhost:8080/"
        },
        "id": "3hOeywG8XU6u",
        "outputId": "2abb8027-b4c6-4627-eb35-3feef8ef44fd"
      },
      "execution_count": 228,
      "outputs": [
        {
          "output_type": "stream",
          "name": "stdout",
          "text": [
            "1\n"
          ]
        }
      ]
    }
  ]
}